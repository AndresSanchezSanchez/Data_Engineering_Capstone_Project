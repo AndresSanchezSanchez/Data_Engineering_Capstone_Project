{
 "cells": [
  {
   "cell_type": "markdown",
   "metadata": {
    "editable": true
   },
   "source": [
    "# Project Title\n",
    "### Data Engineering Capstone Project\n",
    "\n",
    "#### Project Summary\n",
    "--describe your project at a high level--\n",
    "\n",
    "The project follows the follow steps:\n",
    "* Step 1: Scope the Project and Gather Data\n",
    "* Step 2: Explore and Assess the Data\n",
    "* Step 3: Define the Data Model\n",
    "* Step 4: Run ETL to Model the Data\n",
    "* Step 5: Complete Project Write Up"
   ]
  },
  {
   "cell_type": "code",
   "execution_count": 93,
   "metadata": {
    "editable": true
   },
   "outputs": [],
   "source": [
    "# Do all imports and installs here\n",
    "import pandas as pd\n",
    "import os\n",
    "import glob\n",
    "import re\n",
    "from datetime import datetime, timedelta\n",
    "from pyspark.sql.types import StringType, IntegerType, StructField, StructType, LongType\n",
    "import configparser\n",
    "import boto3\n",
    "from pandas import DataFrame\n",
    "import csv\n",
    "from pyspark.sql import SparkSession\n",
    "from pyspark.sql.functions import col, upper, first\n",
    "from pyspark.sql.functions import udf, date_format\n",
    "import datetime as dt\n",
    "from matplotlib import pyplot as plt\n",
    "# Create Spark session\n",
    "spark = SparkSession.builder.\\\n",
    "        config(\"spark.jars.packages\",\"saurfang:spark-sas7bdat:2.0.0-s_2.11\")\\\n",
    "        .enableHiveSupport().getOrCreate()"
   ]
  },
  {
   "cell_type": "markdown",
   "metadata": {
    "editable": true
   },
   "source": [
    "### Step 1: Scope the Project and Gather Data\n",
    "\n",
    "#### Scope \n",
    "Explain what you plan to do in the project in more detail. What data do you use? What is your end solution look like? What tools did you use? etc>\n",
    "\n",
    "#### Describe and Gather Data \n",
    "Describe the data sets you're using. Where did it come from? What type of information is included? "
   ]
  },
  {
   "cell_type": "markdown",
   "metadata": {
    "editable": true
   },
   "source": [
    "This project has the goal to analyze immigration in the US through the databases which will be changed for the data to have a character understandable.\n",
    "The data come from several sources, and the cluster of data on immigration comes from the US National Tourism and Trade Office.\n",
    "The data of World Temperature come from Kaggle and as well as OpenSoft offers the US city demographic data where the user will be able to study statistic data about the population which the user can differ by race, age, region, etc.\n",
    "With the databases, the information which it was obtained, will be used to create a fact table (called immigration_fact) and three tables of dimensions (called immigrant_dimension, demographic_dimension, and temperature_dimension), and Spark will be used for ETL jobs and store the outcomes in parquet."
   ]
  },
  {
   "cell_type": "markdown",
   "metadata": {
    "editable": true
   },
   "source": [
    "### Step 2: Explore and Assess the Data\n",
    "#### Explore the Data \n",
    "Identify data quality issues, like missing values, duplicate data, etc.\n",
    "\n",
    "#### Cleaning Steps\n",
    "Document steps necessary to clean the data"
   ]
  },
  {
   "cell_type": "markdown",
   "metadata": {
    "editable": true
   },
   "source": [
    "1.\tThere is to analyze the immigration data and change the columns for giving an outcome understandable and readable such as changing the columns of time to a format year/month/day and drop the columns that they do not give any information.\n",
    "2.\tWorld Temperature Data will be assessed and it will be just included the data where the column of “country” is equal to “United States” and the column of “date” will be just included the data after the century XX.\n",
    "3.\tThe U.S. City Demographic Data will be assessed for the outcomes are understandable and besides, it will be shown some graphic where the users will be able to see a distribution of the U.S. population divided by race and divided by age with percentages.\n",
    "4.\tFinally, the tables (fact table and dimensions tables) will be created and saved the process in a parquet for downstream query, so the users will manage to consult in the future."
   ]
  },
  {
   "cell_type": "markdown",
   "metadata": {
    "editable": true
   },
   "source": [
    "### Step 3: Define the Data Model\n",
    "#### 3.1 Conceptual Data Model\n",
    "Map out the conceptual data model and explain why you chose that model\n",
    "\n",
    "#### 3.2 Mapping Out Data Pipelines\n",
    "List the steps necessary to pipeline the data into the chosen data model"
   ]
  },
  {
   "cell_type": "markdown",
   "metadata": {
    "editable": true
   },
   "source": [
    "# Objective\n",
    "\n",
    "We are going to analyze the data of immigration which are come from the US National Tourism and Trade Office, as well as the data of world temperature that are come from the website of Kaggle and besides the demographics data from the US cities which are come of OpenSoft. \n",
    "\n",
    "These data will be checked, assessed, and dropped (data no relevant for the project)."
   ]
  },
  {
   "cell_type": "markdown",
   "metadata": {
    "editable": true
   },
   "source": [
    "## IMMIGRATION"
   ]
  },
  {
   "cell_type": "markdown",
   "metadata": {
    "editable": true
   },
   "source": [
    "Bellow, the immmigration data will be read and they will be analyzed and assessed."
   ]
  },
  {
   "cell_type": "code",
   "execution_count": 94,
   "metadata": {
    "editable": true
   },
   "outputs": [],
   "source": [
    "# Read immigration data\n",
    "# Assumption for the project: in this project only the i94_apr16_sub.sas7bdat will be used, \n",
    "# in order to all process all of the available files, simple use i94_files\n",
    "i94_immigration_data_files = glob.glob(\"../../data/18-83510-I94-Data-2016/*.sas7bdat\")\n",
    "i94_immigration_data_files_fname = \"../../data/18-83510-I94-Data-2016/i94_apr16_sub.sas7bdat\"\n",
    "i94_immigration_data = spark.read.format(\"com.github.saurfang.sas.spark\").load(i94_immigration_data_files_fname)"
   ]
  },
  {
   "cell_type": "code",
   "execution_count": 95,
   "metadata": {
    "editable": true
   },
   "outputs": [
    {
     "name": "stdout",
     "output_type": "stream",
     "text": [
      "root\n",
      " |-- cicid: double (nullable = true)\n",
      " |-- i94yr: double (nullable = true)\n",
      " |-- i94mon: double (nullable = true)\n",
      " |-- i94cit: double (nullable = true)\n",
      " |-- i94res: double (nullable = true)\n",
      " |-- i94port: string (nullable = true)\n",
      " |-- arrdate: double (nullable = true)\n",
      " |-- i94mode: double (nullable = true)\n",
      " |-- i94addr: string (nullable = true)\n",
      " |-- depdate: double (nullable = true)\n",
      " |-- i94bir: double (nullable = true)\n",
      " |-- i94visa: double (nullable = true)\n",
      " |-- count: double (nullable = true)\n",
      " |-- dtadfile: string (nullable = true)\n",
      " |-- visapost: string (nullable = true)\n",
      " |-- occup: string (nullable = true)\n",
      " |-- entdepa: string (nullable = true)\n",
      " |-- entdepd: string (nullable = true)\n",
      " |-- entdepu: string (nullable = true)\n",
      " |-- matflag: string (nullable = true)\n",
      " |-- biryear: double (nullable = true)\n",
      " |-- dtaddto: string (nullable = true)\n",
      " |-- gender: string (nullable = true)\n",
      " |-- insnum: string (nullable = true)\n",
      " |-- airline: string (nullable = true)\n",
      " |-- admnum: double (nullable = true)\n",
      " |-- fltno: string (nullable = true)\n",
      " |-- visatype: string (nullable = true)\n",
      "\n"
     ]
    }
   ],
   "source": [
    "i94_immigration_data.printSchema()"
   ]
  },
  {
   "cell_type": "code",
   "execution_count": 96,
   "metadata": {
    "editable": true
   },
   "outputs": [
    {
     "data": {
      "text/plain": [
       "3096313"
      ]
     },
     "execution_count": 96,
     "metadata": {},
     "output_type": "execute_result"
    }
   ],
   "source": [
    "# The number of rows of the immigration table will be counted\n",
    "i94_immigration_data.count()"
   ]
  },
  {
   "cell_type": "code",
   "execution_count": 97,
   "metadata": {
    "editable": true
   },
   "outputs": [
    {
     "data": {
      "text/html": [
       "<div>\n",
       "<style scoped>\n",
       "    .dataframe tbody tr th:only-of-type {\n",
       "        vertical-align: middle;\n",
       "    }\n",
       "\n",
       "    .dataframe tbody tr th {\n",
       "        vertical-align: top;\n",
       "    }\n",
       "\n",
       "    .dataframe thead th {\n",
       "        text-align: right;\n",
       "    }\n",
       "</style>\n",
       "<table border=\"1\" class=\"dataframe\">\n",
       "  <thead>\n",
       "    <tr style=\"text-align: right;\">\n",
       "      <th></th>\n",
       "      <th>cicid</th>\n",
       "      <th>i94yr</th>\n",
       "      <th>i94mon</th>\n",
       "      <th>i94cit</th>\n",
       "      <th>i94res</th>\n",
       "      <th>i94port</th>\n",
       "      <th>arrdate</th>\n",
       "      <th>i94mode</th>\n",
       "      <th>i94addr</th>\n",
       "      <th>depdate</th>\n",
       "      <th>...</th>\n",
       "      <th>entdepu</th>\n",
       "      <th>matflag</th>\n",
       "      <th>biryear</th>\n",
       "      <th>dtaddto</th>\n",
       "      <th>gender</th>\n",
       "      <th>insnum</th>\n",
       "      <th>airline</th>\n",
       "      <th>admnum</th>\n",
       "      <th>fltno</th>\n",
       "      <th>visatype</th>\n",
       "    </tr>\n",
       "  </thead>\n",
       "  <tbody>\n",
       "    <tr>\n",
       "      <th>0</th>\n",
       "      <td>6.0</td>\n",
       "      <td>2016.0</td>\n",
       "      <td>4.0</td>\n",
       "      <td>692.0</td>\n",
       "      <td>692.0</td>\n",
       "      <td>XXX</td>\n",
       "      <td>20573.0</td>\n",
       "      <td>NaN</td>\n",
       "      <td>None</td>\n",
       "      <td>None</td>\n",
       "      <td>...</td>\n",
       "      <td>U</td>\n",
       "      <td>None</td>\n",
       "      <td>1979.0</td>\n",
       "      <td>10282016</td>\n",
       "      <td>None</td>\n",
       "      <td>None</td>\n",
       "      <td>None</td>\n",
       "      <td>1.897628e+09</td>\n",
       "      <td>None</td>\n",
       "      <td>B2</td>\n",
       "    </tr>\n",
       "    <tr>\n",
       "      <th>1</th>\n",
       "      <td>7.0</td>\n",
       "      <td>2016.0</td>\n",
       "      <td>4.0</td>\n",
       "      <td>254.0</td>\n",
       "      <td>276.0</td>\n",
       "      <td>ATL</td>\n",
       "      <td>20551.0</td>\n",
       "      <td>1.0</td>\n",
       "      <td>AL</td>\n",
       "      <td>None</td>\n",
       "      <td>...</td>\n",
       "      <td>Y</td>\n",
       "      <td>None</td>\n",
       "      <td>1991.0</td>\n",
       "      <td>D/S</td>\n",
       "      <td>M</td>\n",
       "      <td>None</td>\n",
       "      <td>None</td>\n",
       "      <td>3.736796e+09</td>\n",
       "      <td>00296</td>\n",
       "      <td>F1</td>\n",
       "    </tr>\n",
       "  </tbody>\n",
       "</table>\n",
       "<p>2 rows × 28 columns</p>\n",
       "</div>"
      ],
      "text/plain": [
       "   cicid   i94yr  i94mon  i94cit  i94res i94port  arrdate  i94mode i94addr  \\\n",
       "0    6.0  2016.0     4.0   692.0   692.0     XXX  20573.0      NaN    None   \n",
       "1    7.0  2016.0     4.0   254.0   276.0     ATL  20551.0      1.0      AL   \n",
       "\n",
       "  depdate   ...     entdepu  matflag  biryear   dtaddto gender insnum airline  \\\n",
       "0    None   ...           U     None   1979.0  10282016   None   None    None   \n",
       "1    None   ...           Y     None   1991.0       D/S      M   None    None   \n",
       "\n",
       "         admnum  fltno visatype  \n",
       "0  1.897628e+09   None       B2  \n",
       "1  3.736796e+09  00296       F1  \n",
       "\n",
       "[2 rows x 28 columns]"
      ]
     },
     "execution_count": 97,
     "metadata": {},
     "output_type": "execute_result"
    }
   ],
   "source": [
    "i94_immigration_data.limit(2).toPandas()"
   ]
  },
  {
   "cell_type": "code",
   "execution_count": 98,
   "metadata": {
    "editable": true
   },
   "outputs": [
    {
     "name": "stdout",
     "output_type": "stream",
     "text": [
      "+-----+------+------+------+------+-------+-------+-------+-------+-------+------+-------+-----+--------+--------+-----+-------+-------+-------+-------+-------+--------+------+------+-------+-------------+-----+--------+\n",
      "|cicid| i94yr|i94mon|i94cit|i94res|i94port|arrdate|i94mode|i94addr|depdate|i94bir|i94visa|count|dtadfile|visapost|occup|entdepa|entdepd|entdepu|matflag|biryear| dtaddto|gender|insnum|airline|       admnum|fltno|visatype|\n",
      "+-----+------+------+------+------+-------+-------+-------+-------+-------+------+-------+-----+--------+--------+-----+-------+-------+-------+-------+-------+--------+------+------+-------+-------------+-----+--------+\n",
      "|  6.0|2016.0|   4.0| 692.0| 692.0|    XXX|20573.0|   null|   null|   null|  37.0|    2.0|  1.0|    null|    null| null|      T|   null|      U|   null| 1979.0|10282016|  null|  null|   null|1.897628485E9| null|      B2|\n",
      "|  7.0|2016.0|   4.0| 254.0| 276.0|    ATL|20551.0|    1.0|     AL|   null|  25.0|    3.0|  1.0|20130811|     SEO| null|      G|   null|      Y|   null| 1991.0|     D/S|     M|  null|   null| 3.73679633E9|00296|      F1|\n",
      "+-----+------+------+------+------+-------+-------+-------+-------+-------+------+-------+-----+--------+--------+-----+-------+-------+-------+-------+-------+--------+------+------+-------+-------------+-----+--------+\n",
      "only showing top 2 rows\n",
      "\n"
     ]
    }
   ],
   "source": [
    "i94_immigration_data.show(2)"
   ]
  },
  {
   "cell_type": "code",
   "execution_count": 99,
   "metadata": {
    "editable": true
   },
   "outputs": [],
   "source": [
    "# At this function will analyze the different cases relating to the immigration table called \"i94_df\" where the column will be renamed\n",
    "# and the type of columns can also be changed with the instruction \"cast\"\n",
    "def immigration(table, option):\n",
    "    if option == 1:\n",
    "        table = table.select(col('cicid').alias('id_immigration').cast(\"float\"), col('i94yr').alias('year').cast(\"float\"),\n",
    "                             col('i94mon').alias('month').cast(\"int\"), col('i94cit').alias('code_origin').cast(\"float\"), \n",
    "                             col('i94res').alias('code_destination').cast(\"float\"), col('i94port').alias('code_city_destination'), \n",
    "                             col('arrdate').alias('arrival_date'), col('i94mode').alias('code_travel').cast(\"int\"), \n",
    "                             col('i94addr').alias('addr'), 'depdate', col('i94bir').alias('birth').cast(\"int\"), \n",
    "                             col('i94visa').alias('visa').cast(\"string\"), 'dtadfile', 'visapost' , 'occup', 'entdepa', \n",
    "                             'entdepd', 'entdepu', 'matflag', col('biryear').cast(\"float\"), 'dtaddto', \n",
    "                             'gender', 'insnum', 'airline', col('admnum').alias('admission_number'), 'fltno', 'visatype')\n",
    "        # Drop the `state` column\n",
    "        table = table.drop(\"visapost\", \"occup\", \"entdepa\", \"entdepd\", \"entdepu\",\"matflag\", \"insnum\", \n",
    "                           \"count\", \"year\",\"month\", \"dtadfile\",\"dtaddto\", \"fltno\")\n",
    "        return table\n",
    "    elif option == 2:\n",
    "        table = table.select('id_immigration', col('res_city').alias('origin'), 'code_destination', 'code_city_destination', \n",
    "                             'arrival_date', 'code_travel', 'addr', 'depdate', 'birth', 'visa', 'biryear', 'gender', \n",
    "                             'airline', 'admission_number', 'visatype', 'port_city', 'port_state')\n",
    "        return table\n",
    "    elif option == 3:\n",
    "        table = table.select('id_immigration', 'origin', col('res_city').alias('destination'), 'code_city_destination', 'arrival_date', \n",
    "                             'code_travel', 'addr', 'depdate', 'birth', 'visa', 'biryear', 'gender', 'airline', 'admission_number', \n",
    "                             'visatype', 'port_city', 'port_state')\n",
    "        table = table.drop(\"port_state\")\n",
    "        return table\n",
    "    elif option == 4:\n",
    "        table = table.select('id_immigration', 'origin', 'destination', 'code_city_destination', 'arrival_date', \n",
    "                             col('type').alias('travel'), 'addr', 'depdate', 'birth', 'visa', 'biryear', 'gender', 'airline', \n",
    "                             'admission_number', 'visatype', 'port_city')\n",
    "        # Drop the `state` column\n",
    "        table = table.drop(\"code_travel\", \"numbers_code_travel\")\n",
    "        return table\n",
    "    elif option == 5:\n",
    "        table = table.select('id_immigration', 'origin', 'destination', 'code_city_destination', 'arrival_date', 'travel',\n",
    "                             'addr', 'depdate', 'birth', 'biryear', 'gender', 'airline', 'admission_number',\n",
    "                              'type', 'visatype', 'port_city')\n",
    "        # Drop the `state` column\n",
    "        table = table.drop(\"visa\", \"numbers_visa\")\n",
    "        return table\n",
    "    else:\n",
    "        return None"
   ]
  },
  {
   "cell_type": "code",
   "execution_count": 100,
   "metadata": {
    "editable": true
   },
   "outputs": [
    {
     "data": {
      "text/html": [
       "<div>\n",
       "<style scoped>\n",
       "    .dataframe tbody tr th:only-of-type {\n",
       "        vertical-align: middle;\n",
       "    }\n",
       "\n",
       "    .dataframe tbody tr th {\n",
       "        vertical-align: top;\n",
       "    }\n",
       "\n",
       "    .dataframe thead th {\n",
       "        text-align: right;\n",
       "    }\n",
       "</style>\n",
       "<table border=\"1\" class=\"dataframe\">\n",
       "  <thead>\n",
       "    <tr style=\"text-align: right;\">\n",
       "      <th></th>\n",
       "      <th>id_immigration</th>\n",
       "      <th>code_origin</th>\n",
       "      <th>code_destination</th>\n",
       "      <th>code_city_destination</th>\n",
       "      <th>arrival_date</th>\n",
       "      <th>code_travel</th>\n",
       "      <th>addr</th>\n",
       "      <th>depdate</th>\n",
       "      <th>birth</th>\n",
       "      <th>visa</th>\n",
       "      <th>biryear</th>\n",
       "      <th>gender</th>\n",
       "      <th>airline</th>\n",
       "      <th>admission_number</th>\n",
       "      <th>visatype</th>\n",
       "    </tr>\n",
       "  </thead>\n",
       "  <tbody>\n",
       "    <tr>\n",
       "      <th>0</th>\n",
       "      <td>6.0</td>\n",
       "      <td>692.0</td>\n",
       "      <td>692.0</td>\n",
       "      <td>XXX</td>\n",
       "      <td>20573.0</td>\n",
       "      <td>NaN</td>\n",
       "      <td>None</td>\n",
       "      <td>None</td>\n",
       "      <td>37</td>\n",
       "      <td>2.0</td>\n",
       "      <td>1979.0</td>\n",
       "      <td>None</td>\n",
       "      <td>None</td>\n",
       "      <td>1.897628e+09</td>\n",
       "      <td>B2</td>\n",
       "    </tr>\n",
       "    <tr>\n",
       "      <th>1</th>\n",
       "      <td>7.0</td>\n",
       "      <td>254.0</td>\n",
       "      <td>276.0</td>\n",
       "      <td>ATL</td>\n",
       "      <td>20551.0</td>\n",
       "      <td>1.0</td>\n",
       "      <td>AL</td>\n",
       "      <td>None</td>\n",
       "      <td>25</td>\n",
       "      <td>3.0</td>\n",
       "      <td>1991.0</td>\n",
       "      <td>M</td>\n",
       "      <td>None</td>\n",
       "      <td>3.736796e+09</td>\n",
       "      <td>F1</td>\n",
       "    </tr>\n",
       "  </tbody>\n",
       "</table>\n",
       "</div>"
      ],
      "text/plain": [
       "   id_immigration  code_origin  code_destination code_city_destination  \\\n",
       "0             6.0        692.0             692.0                   XXX   \n",
       "1             7.0        254.0             276.0                   ATL   \n",
       "\n",
       "   arrival_date  code_travel  addr depdate  birth visa  biryear gender  \\\n",
       "0       20573.0          NaN  None    None     37  2.0   1979.0   None   \n",
       "1       20551.0          1.0    AL    None     25  3.0   1991.0      M   \n",
       "\n",
       "  airline  admission_number visatype  \n",
       "0    None      1.897628e+09       B2  \n",
       "1    None      3.736796e+09       F1  "
      ]
     },
     "execution_count": 100,
     "metadata": {},
     "output_type": "execute_result"
    }
   ],
   "source": [
    "# immigration data will be assessed with the function \"immigration\" and option 1\n",
    "i94_df = immigration(i94_immigration_data, 1)\n",
    "i94_df.limit(2).toPandas()"
   ]
  },
  {
   "cell_type": "code",
   "execution_count": 101,
   "metadata": {
    "editable": true
   },
   "outputs": [
    {
     "name": "stdout",
     "output_type": "stream",
     "text": [
      "root\n",
      " |-- id_immigration: float (nullable = true)\n",
      " |-- code_origin: float (nullable = true)\n",
      " |-- code_destination: float (nullable = true)\n",
      " |-- code_city_destination: string (nullable = true)\n",
      " |-- arrival_date: double (nullable = true)\n",
      " |-- code_travel: integer (nullable = true)\n",
      " |-- addr: string (nullable = true)\n",
      " |-- depdate: double (nullable = true)\n",
      " |-- birth: integer (nullable = true)\n",
      " |-- visa: string (nullable = true)\n",
      " |-- biryear: float (nullable = true)\n",
      " |-- gender: string (nullable = true)\n",
      " |-- airline: string (nullable = true)\n",
      " |-- admission_number: double (nullable = true)\n",
      " |-- visatype: string (nullable = true)\n",
      "\n"
     ]
    }
   ],
   "source": [
    "i94_df.printSchema()"
   ]
  },
  {
   "cell_type": "code",
   "execution_count": 102,
   "metadata": {
    "editable": true
   },
   "outputs": [],
   "source": [
    "# This function is created to change the format of the time. It is changed to a format that can be understood (year/month/day). \n",
    "# The first day is 1960/01/01 \n",
    "@udf(StringType())\n",
    "def convert_datetime(x):\n",
    "    if x:\n",
    "        return (datetime(1960, 1, 1).date() + timedelta(x)).isoformat()\n",
    "    return None"
   ]
  },
  {
   "cell_type": "code",
   "execution_count": 103,
   "metadata": {
    "editable": true
   },
   "outputs": [
    {
     "data": {
      "text/html": [
       "<div>\n",
       "<style scoped>\n",
       "    .dataframe tbody tr th:only-of-type {\n",
       "        vertical-align: middle;\n",
       "    }\n",
       "\n",
       "    .dataframe tbody tr th {\n",
       "        vertical-align: top;\n",
       "    }\n",
       "\n",
       "    .dataframe thead th {\n",
       "        text-align: right;\n",
       "    }\n",
       "</style>\n",
       "<table border=\"1\" class=\"dataframe\">\n",
       "  <thead>\n",
       "    <tr style=\"text-align: right;\">\n",
       "      <th></th>\n",
       "      <th>id_immigration</th>\n",
       "      <th>code_origin</th>\n",
       "      <th>code_destination</th>\n",
       "      <th>code_city_destination</th>\n",
       "      <th>arrival_date</th>\n",
       "      <th>code_travel</th>\n",
       "      <th>addr</th>\n",
       "      <th>depdate</th>\n",
       "      <th>birth</th>\n",
       "      <th>visa</th>\n",
       "      <th>biryear</th>\n",
       "      <th>gender</th>\n",
       "      <th>airline</th>\n",
       "      <th>admission_number</th>\n",
       "      <th>visatype</th>\n",
       "    </tr>\n",
       "  </thead>\n",
       "  <tbody>\n",
       "    <tr>\n",
       "      <th>0</th>\n",
       "      <td>6.0</td>\n",
       "      <td>692.0</td>\n",
       "      <td>692.0</td>\n",
       "      <td>XXX</td>\n",
       "      <td>2016-04-29</td>\n",
       "      <td>NaN</td>\n",
       "      <td>None</td>\n",
       "      <td>None</td>\n",
       "      <td>37</td>\n",
       "      <td>2.0</td>\n",
       "      <td>1979.0</td>\n",
       "      <td>None</td>\n",
       "      <td>None</td>\n",
       "      <td>1.897628e+09</td>\n",
       "      <td>B2</td>\n",
       "    </tr>\n",
       "    <tr>\n",
       "      <th>1</th>\n",
       "      <td>7.0</td>\n",
       "      <td>254.0</td>\n",
       "      <td>276.0</td>\n",
       "      <td>ATL</td>\n",
       "      <td>2016-04-07</td>\n",
       "      <td>1.0</td>\n",
       "      <td>AL</td>\n",
       "      <td>None</td>\n",
       "      <td>25</td>\n",
       "      <td>3.0</td>\n",
       "      <td>1991.0</td>\n",
       "      <td>M</td>\n",
       "      <td>None</td>\n",
       "      <td>3.736796e+09</td>\n",
       "      <td>F1</td>\n",
       "    </tr>\n",
       "    <tr>\n",
       "      <th>2</th>\n",
       "      <td>15.0</td>\n",
       "      <td>101.0</td>\n",
       "      <td>101.0</td>\n",
       "      <td>WAS</td>\n",
       "      <td>2016-04-01</td>\n",
       "      <td>1.0</td>\n",
       "      <td>MI</td>\n",
       "      <td>2016-08-25</td>\n",
       "      <td>55</td>\n",
       "      <td>2.0</td>\n",
       "      <td>1961.0</td>\n",
       "      <td>M</td>\n",
       "      <td>OS</td>\n",
       "      <td>6.666432e+08</td>\n",
       "      <td>B2</td>\n",
       "    </tr>\n",
       "    <tr>\n",
       "      <th>3</th>\n",
       "      <td>16.0</td>\n",
       "      <td>101.0</td>\n",
       "      <td>101.0</td>\n",
       "      <td>NYC</td>\n",
       "      <td>2016-04-01</td>\n",
       "      <td>1.0</td>\n",
       "      <td>MA</td>\n",
       "      <td>2016-04-23</td>\n",
       "      <td>28</td>\n",
       "      <td>2.0</td>\n",
       "      <td>1988.0</td>\n",
       "      <td>None</td>\n",
       "      <td>AA</td>\n",
       "      <td>9.246846e+10</td>\n",
       "      <td>B2</td>\n",
       "    </tr>\n",
       "    <tr>\n",
       "      <th>4</th>\n",
       "      <td>17.0</td>\n",
       "      <td>101.0</td>\n",
       "      <td>101.0</td>\n",
       "      <td>NYC</td>\n",
       "      <td>2016-04-01</td>\n",
       "      <td>1.0</td>\n",
       "      <td>MA</td>\n",
       "      <td>2016-04-23</td>\n",
       "      <td>4</td>\n",
       "      <td>2.0</td>\n",
       "      <td>2012.0</td>\n",
       "      <td>None</td>\n",
       "      <td>AA</td>\n",
       "      <td>9.246846e+10</td>\n",
       "      <td>B2</td>\n",
       "    </tr>\n",
       "  </tbody>\n",
       "</table>\n",
       "</div>"
      ],
      "text/plain": [
       "   id_immigration  code_origin  code_destination code_city_destination  \\\n",
       "0             6.0        692.0             692.0                   XXX   \n",
       "1             7.0        254.0             276.0                   ATL   \n",
       "2            15.0        101.0             101.0                   WAS   \n",
       "3            16.0        101.0             101.0                   NYC   \n",
       "4            17.0        101.0             101.0                   NYC   \n",
       "\n",
       "  arrival_date  code_travel  addr     depdate  birth visa  biryear gender  \\\n",
       "0   2016-04-29          NaN  None        None     37  2.0   1979.0   None   \n",
       "1   2016-04-07          1.0    AL        None     25  3.0   1991.0      M   \n",
       "2   2016-04-01          1.0    MI  2016-08-25     55  2.0   1961.0      M   \n",
       "3   2016-04-01          1.0    MA  2016-04-23     28  2.0   1988.0   None   \n",
       "4   2016-04-01          1.0    MA  2016-04-23      4  2.0   2012.0   None   \n",
       "\n",
       "  airline  admission_number visatype  \n",
       "0    None      1.897628e+09       B2  \n",
       "1    None      3.736796e+09       F1  \n",
       "2      OS      6.666432e+08       B2  \n",
       "3      AA      9.246846e+10       B2  \n",
       "4      AA      9.246846e+10       B2  "
      ]
     },
     "execution_count": 103,
     "metadata": {},
     "output_type": "execute_result"
    }
   ],
   "source": [
    "# The function \"convert_datatime\" is used to change the format of the columns of \"arrival_date\" and \"depdate\"\n",
    "i94_df = i94_df.withColumn('arrival_date', convert_datetime(i94_df.arrival_date))\n",
    "i94_df = i94_df.withColumn('depdate', convert_datetime(i94_df.depdate))\n",
    "i94_df.limit(5).toPandas()"
   ]
  },
  {
   "cell_type": "code",
   "execution_count": 104,
   "metadata": {
    "editable": true
   },
   "outputs": [
    {
     "data": {
      "text/plain": [
       "3096313"
      ]
     },
     "execution_count": 104,
     "metadata": {},
     "output_type": "execute_result"
    }
   ],
   "source": [
    "i94_df.count()"
   ]
  },
  {
   "cell_type": "code",
   "execution_count": 105,
   "metadata": {
    "editable": true
   },
   "outputs": [],
   "source": [
    "# With the instruction \"dropDuplicates\" is removed the columns that are repeated\n",
    "i94_df = i94_df.dropDuplicates()"
   ]
  },
  {
   "cell_type": "code",
   "execution_count": 106,
   "metadata": {
    "editable": true
   },
   "outputs": [
    {
     "data": {
      "text/plain": [
       "3096313"
      ]
     },
     "execution_count": 106,
     "metadata": {},
     "output_type": "execute_result"
    }
   ],
   "source": [
    "i94_df.count()"
   ]
  },
  {
   "cell_type": "code",
   "execution_count": 107,
   "metadata": {
    "editable": true
   },
   "outputs": [
    {
     "name": "stdout",
     "output_type": "stream",
     "text": [
      "+-------------------+------------+\n",
      "|numbers_code_travel|        type|\n",
      "+-------------------+------------+\n",
      "|                  1|         Air|\n",
      "|                  2|         Sea|\n",
      "|                  3|        Land|\n",
      "|                  9|Rot reported|\n",
      "+-------------------+------------+\n",
      "\n"
     ]
    }
   ],
   "source": [
    "# The colounm \"numbers_code_travel\" has a format that is tough to understand and we are going to associate the number with their meaning \n",
    "# Bellow, we can see what they mean each number\n",
    "\n",
    "'''\n",
    "/* I94MODE - There are missing values as well as not reported (9) */\n",
    "    1 = 'Air'\n",
    "    2 = 'Sea'\n",
    "    3 = 'Land'\n",
    "    9 = 'Not reported' ;\n",
    "'''\n",
    "# Create i94mode list\n",
    "i94code_travel =[[1,'Air'],[2,'Sea'],[3,'Land'],[9,'Not reported']]\n",
    "\n",
    "# Convert to spark dataframe\n",
    "i94mode=spark.createDataFrame(i94code_travel)\n",
    "\n",
    "i94code_travel = pd.DataFrame({'numbers_code_travel': [1, 2, 3, 9], 'type': ['Air', 'Sea', 'Land', 'Rot reported']})\n",
    "i94code_travel=spark.createDataFrame(i94code_travel)\n",
    "i94code_travel.show()"
   ]
  },
  {
   "cell_type": "code",
   "execution_count": 108,
   "metadata": {
    "editable": true
   },
   "outputs": [
    {
     "name": "stdout",
     "output_type": "stream",
     "text": [
      "[['ALC', 'ALCAN', 'AK']]\n",
      "[['A2A', 'No PORT Code (A2A)', nan], ['OSN', 'No PORT Code (OSN)', nan]]\n"
     ]
    }
   ],
   "source": [
    "# The dictionary will be read with the ports so that in the future the data will be filtered and made more understandable\n",
    "i94port = pd.read_csv('I94_SAS_Labels_Descriptions.SAS',sep='=',names=['id','port'])\n",
    "\n",
    "# Remove whitespaces and single quotes\n",
    "i94port['id']=i94port['id'].str.strip().str.replace(\"'\",'')\n",
    "\n",
    "# Create two columns from i94port string: port_city and port_addr\n",
    "# also remove whitespaces and single quotes\n",
    "i94port['port_city'], i94port['port_state']=i94port['port'].str.strip().str.replace(\"'\",'').str.strip().str.split(',',1).str\n",
    "\n",
    "# Remove more whitespace from port_addr\n",
    "i94port['port_state']=i94port['port_state'].str.strip()\n",
    "\n",
    "# Drop port column and keep the two new columns: port_city and port_addr\n",
    "i94port.drop(columns =['port'], inplace = True)\n",
    "\n",
    "# Convert pandas dataframe to list (objects which had single quotes removed automatically become string again with single quotes)\n",
    "i94port_data=i94port.values.tolist()\n",
    "\n",
    "i94port_data = i94port_data[297:957]\n",
    "print(i94port_data[0:1])\n",
    "print(i94port_data[658:660])"
   ]
  },
  {
   "cell_type": "code",
   "execution_count": 109,
   "metadata": {
    "editable": true
   },
   "outputs": [
    {
     "data": {
      "text/html": [
       "<div>\n",
       "<style scoped>\n",
       "    .dataframe tbody tr th:only-of-type {\n",
       "        vertical-align: middle;\n",
       "    }\n",
       "\n",
       "    .dataframe tbody tr th {\n",
       "        vertical-align: top;\n",
       "    }\n",
       "\n",
       "    .dataframe thead th {\n",
       "        text-align: right;\n",
       "    }\n",
       "</style>\n",
       "<table border=\"1\" class=\"dataframe\">\n",
       "  <thead>\n",
       "    <tr style=\"text-align: right;\">\n",
       "      <th></th>\n",
       "      <th>id</th>\n",
       "      <th>port_city</th>\n",
       "      <th>port_state</th>\n",
       "    </tr>\n",
       "  </thead>\n",
       "  <tbody>\n",
       "    <tr>\n",
       "      <th>0</th>\n",
       "      <td>ALC</td>\n",
       "      <td>ALCAN</td>\n",
       "      <td>AK</td>\n",
       "    </tr>\n",
       "    <tr>\n",
       "      <th>1</th>\n",
       "      <td>ANC</td>\n",
       "      <td>ANCHORAGE</td>\n",
       "      <td>AK</td>\n",
       "    </tr>\n",
       "    <tr>\n",
       "      <th>2</th>\n",
       "      <td>BAR</td>\n",
       "      <td>BAKER AAF - BAKER ISLAND</td>\n",
       "      <td>AK</td>\n",
       "    </tr>\n",
       "    <tr>\n",
       "      <th>3</th>\n",
       "      <td>DAC</td>\n",
       "      <td>DALTONS CACHE</td>\n",
       "      <td>AK</td>\n",
       "    </tr>\n",
       "    <tr>\n",
       "      <th>4</th>\n",
       "      <td>PIZ</td>\n",
       "      <td>DEW STATION PT LAY DEW</td>\n",
       "      <td>AK</td>\n",
       "    </tr>\n",
       "  </tbody>\n",
       "</table>\n",
       "</div>"
      ],
      "text/plain": [
       "    id                 port_city port_state\n",
       "0  ALC                     ALCAN         AK\n",
       "1  ANC                 ANCHORAGE         AK\n",
       "2  BAR  BAKER AAF - BAKER ISLAND         AK\n",
       "3  DAC             DALTONS CACHE         AK\n",
       "4  PIZ    DEW STATION PT LAY DEW         AK"
      ]
     },
     "execution_count": 109,
     "metadata": {},
     "output_type": "execute_result"
    }
   ],
   "source": [
    "# Now convert list to spark dataframe\n",
    "# Create a schema for the dataframe\n",
    "i94port = StructType([\n",
    "    StructField('id', StringType(), True),\n",
    "    StructField('port_city', StringType(), True),\n",
    "    StructField('port_state', StringType(), True)\n",
    "])\n",
    "i94port=spark.createDataFrame(i94port_data, i94port)\n",
    "i94port.limit(5).toPandas()"
   ]
  },
  {
   "cell_type": "code",
   "execution_count": 110,
   "metadata": {
    "editable": true
   },
   "outputs": [
    {
     "name": "stdout",
     "output_type": "stream",
     "text": [
      "[['   582 ', 'MEXICO Air Sea, and Not Reported (I-94, no land arrivals)']]\n",
      "[['   996 ', 'No Country Code (996) ;']]\n"
     ]
    }
   ],
   "source": [
    "# Read i94res text file\n",
    "i94res_df = pd.read_csv('I94_SAS_Labels_Descriptions.SAS',sep='=',names=['id','country'])\n",
    "# Remove whitespaces and single quotes\n",
    "i94res_df['country']=i94res_df['country'].str.replace(\"'\",'').str.strip()\n",
    "# Convert pandas dataframe to list (objects which had single quotes removed automatically become string again with single quotes)\n",
    "i94res_data=i94res_df.values.tolist()\n",
    "\n",
    "i94res_data = i94res_data[6:295]\n",
    "print(i94res_data[0:1])\n",
    "print(i94res_data[288:289])"
   ]
  },
  {
   "cell_type": "code",
   "execution_count": 111,
   "metadata": {
    "editable": true
   },
   "outputs": [
    {
     "name": "stdout",
     "output_type": "stream",
     "text": [
      "[['   582 ', 'MEXICO'], ['   236 ', 'AFGHANISTAN']]\n"
     ]
    }
   ],
   "source": [
    "# The first line is changed to remove the remaining words that accompanies \"MEXICO\"\n",
    "i94res_data[0:1] = [['   582 ', 'MEXICO']]\n",
    "print(i94res_data[0:2])"
   ]
  },
  {
   "cell_type": "code",
   "execution_count": 112,
   "metadata": {
    "editable": true
   },
   "outputs": [
    {
     "data": {
      "text/html": [
       "<div>\n",
       "<style scoped>\n",
       "    .dataframe tbody tr th:only-of-type {\n",
       "        vertical-align: middle;\n",
       "    }\n",
       "\n",
       "    .dataframe tbody tr th {\n",
       "        vertical-align: top;\n",
       "    }\n",
       "\n",
       "    .dataframe thead th {\n",
       "        text-align: right;\n",
       "    }\n",
       "</style>\n",
       "<table border=\"1\" class=\"dataframe\">\n",
       "  <thead>\n",
       "    <tr style=\"text-align: right;\">\n",
       "      <th></th>\n",
       "      <th>id</th>\n",
       "      <th>res_city</th>\n",
       "    </tr>\n",
       "  </thead>\n",
       "  <tbody>\n",
       "    <tr>\n",
       "      <th>0</th>\n",
       "      <td>582</td>\n",
       "      <td>MEXICO</td>\n",
       "    </tr>\n",
       "    <tr>\n",
       "      <th>1</th>\n",
       "      <td>236</td>\n",
       "      <td>AFGHANISTAN</td>\n",
       "    </tr>\n",
       "    <tr>\n",
       "      <th>2</th>\n",
       "      <td>101</td>\n",
       "      <td>ALBANIA</td>\n",
       "    </tr>\n",
       "    <tr>\n",
       "      <th>3</th>\n",
       "      <td>316</td>\n",
       "      <td>ALGERIA</td>\n",
       "    </tr>\n",
       "    <tr>\n",
       "      <th>4</th>\n",
       "      <td>102</td>\n",
       "      <td>ANDORRA</td>\n",
       "    </tr>\n",
       "  </tbody>\n",
       "</table>\n",
       "</div>"
      ],
      "text/plain": [
       "        id     res_city\n",
       "0     582        MEXICO\n",
       "1     236   AFGHANISTAN\n",
       "2     101       ALBANIA\n",
       "3     316       ALGERIA\n",
       "4     102       ANDORRA"
      ]
     },
     "execution_count": 112,
     "metadata": {},
     "output_type": "execute_result"
    }
   ],
   "source": [
    "# Now convert list to spark dataframe\n",
    "# Create a schema for the dataframe\n",
    "i94res = StructType([\n",
    "    StructField('id', StringType(), True),\n",
    "    StructField('res_city', StringType(), True)\n",
    "])\n",
    "i94res=spark.createDataFrame(i94res_data, i94res)\n",
    "i94res.limit(5).toPandas()"
   ]
  },
  {
   "cell_type": "code",
   "execution_count": 113,
   "metadata": {
    "editable": true
   },
   "outputs": [
    {
     "data": {
      "text/plain": [
       "['id_immigration',\n",
       " 'code_origin',\n",
       " 'code_destination',\n",
       " 'code_city_destination',\n",
       " 'arrival_date',\n",
       " 'code_travel',\n",
       " 'addr',\n",
       " 'depdate',\n",
       " 'birth',\n",
       " 'visa',\n",
       " 'biryear',\n",
       " 'gender',\n",
       " 'airline',\n",
       " 'admission_number',\n",
       " 'visatype']"
      ]
     },
     "execution_count": 113,
     "metadata": {},
     "output_type": "execute_result"
    }
   ],
   "source": [
    "# We show the columns of the immigration dataframe\n",
    "i94_df.columns"
   ]
  },
  {
   "cell_type": "code",
   "execution_count": 114,
   "metadata": {
    "editable": true
   },
   "outputs": [
    {
     "data": {
      "text/plain": [
       "['id', 'port_city', 'port_state']"
      ]
     },
     "execution_count": 114,
     "metadata": {},
     "output_type": "execute_result"
    }
   ],
   "source": [
    "# We show the columns of the ports dataframe\n",
    "i94port.columns"
   ]
  },
  {
   "cell_type": "code",
   "execution_count": 115,
   "metadata": {
    "editable": true
   },
   "outputs": [],
   "source": [
    "# We join two dataframes \"code_city_destination\"==\"id\"\n",
    "i94_df = i94_df.join(i94port, i94_df.code_city_destination==i94port.id, how='left')"
   ]
  },
  {
   "cell_type": "code",
   "execution_count": 116,
   "metadata": {
    "editable": true
   },
   "outputs": [
    {
     "data": {
      "text/html": [
       "<div>\n",
       "<style scoped>\n",
       "    .dataframe tbody tr th:only-of-type {\n",
       "        vertical-align: middle;\n",
       "    }\n",
       "\n",
       "    .dataframe tbody tr th {\n",
       "        vertical-align: top;\n",
       "    }\n",
       "\n",
       "    .dataframe thead th {\n",
       "        text-align: right;\n",
       "    }\n",
       "</style>\n",
       "<table border=\"1\" class=\"dataframe\">\n",
       "  <thead>\n",
       "    <tr style=\"text-align: right;\">\n",
       "      <th></th>\n",
       "      <th>id_immigration</th>\n",
       "      <th>code_origin</th>\n",
       "      <th>code_destination</th>\n",
       "      <th>code_city_destination</th>\n",
       "      <th>arrival_date</th>\n",
       "      <th>code_travel</th>\n",
       "      <th>addr</th>\n",
       "      <th>depdate</th>\n",
       "      <th>birth</th>\n",
       "      <th>visa</th>\n",
       "      <th>biryear</th>\n",
       "      <th>gender</th>\n",
       "      <th>airline</th>\n",
       "      <th>admission_number</th>\n",
       "      <th>visatype</th>\n",
       "      <th>id</th>\n",
       "      <th>port_city</th>\n",
       "      <th>port_state</th>\n",
       "    </tr>\n",
       "  </thead>\n",
       "  <tbody>\n",
       "    <tr>\n",
       "      <th>0</th>\n",
       "      <td>663.0</td>\n",
       "      <td>103.0</td>\n",
       "      <td>111.0</td>\n",
       "      <td>SPM</td>\n",
       "      <td>2016-04-01</td>\n",
       "      <td>1</td>\n",
       "      <td>MN</td>\n",
       "      <td>2016-04-15</td>\n",
       "      <td>49</td>\n",
       "      <td>2.0</td>\n",
       "      <td>1967.0</td>\n",
       "      <td>F</td>\n",
       "      <td>DL</td>\n",
       "      <td>5.542063e+10</td>\n",
       "      <td>WT</td>\n",
       "      <td>SPM</td>\n",
       "      <td>ST PAUL</td>\n",
       "      <td>MN</td>\n",
       "    </tr>\n",
       "    <tr>\n",
       "      <th>1</th>\n",
       "      <td>664.0</td>\n",
       "      <td>103.0</td>\n",
       "      <td>111.0</td>\n",
       "      <td>SPM</td>\n",
       "      <td>2016-04-01</td>\n",
       "      <td>1</td>\n",
       "      <td>MN</td>\n",
       "      <td>2016-04-15</td>\n",
       "      <td>11</td>\n",
       "      <td>2.0</td>\n",
       "      <td>2005.0</td>\n",
       "      <td>None</td>\n",
       "      <td>DL</td>\n",
       "      <td>5.541960e+10</td>\n",
       "      <td>WT</td>\n",
       "      <td>SPM</td>\n",
       "      <td>ST PAUL</td>\n",
       "      <td>MN</td>\n",
       "    </tr>\n",
       "    <tr>\n",
       "      <th>2</th>\n",
       "      <td>1729.0</td>\n",
       "      <td>104.0</td>\n",
       "      <td>104.0</td>\n",
       "      <td>SPM</td>\n",
       "      <td>2016-04-01</td>\n",
       "      <td>1</td>\n",
       "      <td>NV</td>\n",
       "      <td>2016-04-09</td>\n",
       "      <td>35</td>\n",
       "      <td>2.0</td>\n",
       "      <td>1981.0</td>\n",
       "      <td>F</td>\n",
       "      <td>DL</td>\n",
       "      <td>5.542093e+10</td>\n",
       "      <td>WT</td>\n",
       "      <td>SPM</td>\n",
       "      <td>ST PAUL</td>\n",
       "      <td>MN</td>\n",
       "    </tr>\n",
       "    <tr>\n",
       "      <th>3</th>\n",
       "      <td>1068.0</td>\n",
       "      <td>104.0</td>\n",
       "      <td>104.0</td>\n",
       "      <td>SPM</td>\n",
       "      <td>2016-04-01</td>\n",
       "      <td>1</td>\n",
       "      <td>NY</td>\n",
       "      <td>2016-04-08</td>\n",
       "      <td>13</td>\n",
       "      <td>2.0</td>\n",
       "      <td>2003.0</td>\n",
       "      <td>F</td>\n",
       "      <td>UA</td>\n",
       "      <td>5.542130e+10</td>\n",
       "      <td>WT</td>\n",
       "      <td>SPM</td>\n",
       "      <td>ST PAUL</td>\n",
       "      <td>MN</td>\n",
       "    </tr>\n",
       "    <tr>\n",
       "      <th>4</th>\n",
       "      <td>665.0</td>\n",
       "      <td>103.0</td>\n",
       "      <td>111.0</td>\n",
       "      <td>SPM</td>\n",
       "      <td>2016-04-01</td>\n",
       "      <td>1</td>\n",
       "      <td>MN</td>\n",
       "      <td>2016-04-15</td>\n",
       "      <td>10</td>\n",
       "      <td>2.0</td>\n",
       "      <td>2006.0</td>\n",
       "      <td>None</td>\n",
       "      <td>DL</td>\n",
       "      <td>5.541959e+10</td>\n",
       "      <td>WT</td>\n",
       "      <td>SPM</td>\n",
       "      <td>ST PAUL</td>\n",
       "      <td>MN</td>\n",
       "    </tr>\n",
       "  </tbody>\n",
       "</table>\n",
       "</div>"
      ],
      "text/plain": [
       "   id_immigration  code_origin  code_destination code_city_destination  \\\n",
       "0           663.0        103.0             111.0                   SPM   \n",
       "1           664.0        103.0             111.0                   SPM   \n",
       "2          1729.0        104.0             104.0                   SPM   \n",
       "3          1068.0        104.0             104.0                   SPM   \n",
       "4           665.0        103.0             111.0                   SPM   \n",
       "\n",
       "  arrival_date  code_travel addr     depdate  birth visa  biryear gender  \\\n",
       "0   2016-04-01            1   MN  2016-04-15     49  2.0   1967.0      F   \n",
       "1   2016-04-01            1   MN  2016-04-15     11  2.0   2005.0   None   \n",
       "2   2016-04-01            1   NV  2016-04-09     35  2.0   1981.0      F   \n",
       "3   2016-04-01            1   NY  2016-04-08     13  2.0   2003.0      F   \n",
       "4   2016-04-01            1   MN  2016-04-15     10  2.0   2006.0   None   \n",
       "\n",
       "  airline  admission_number visatype   id port_city port_state  \n",
       "0      DL      5.542063e+10       WT  SPM   ST PAUL         MN  \n",
       "1      DL      5.541960e+10       WT  SPM   ST PAUL         MN  \n",
       "2      DL      5.542093e+10       WT  SPM   ST PAUL         MN  \n",
       "3      UA      5.542130e+10       WT  SPM   ST PAUL         MN  \n",
       "4      DL      5.541959e+10       WT  SPM   ST PAUL         MN  "
      ]
     },
     "execution_count": 116,
     "metadata": {},
     "output_type": "execute_result"
    }
   ],
   "source": [
    "i94_df.limit(5).toPandas()"
   ]
  },
  {
   "cell_type": "code",
   "execution_count": 117,
   "metadata": {
    "editable": true
   },
   "outputs": [
    {
     "data": {
      "text/html": [
       "<div>\n",
       "<style scoped>\n",
       "    .dataframe tbody tr th:only-of-type {\n",
       "        vertical-align: middle;\n",
       "    }\n",
       "\n",
       "    .dataframe tbody tr th {\n",
       "        vertical-align: top;\n",
       "    }\n",
       "\n",
       "    .dataframe thead th {\n",
       "        text-align: right;\n",
       "    }\n",
       "</style>\n",
       "<table border=\"1\" class=\"dataframe\">\n",
       "  <thead>\n",
       "    <tr style=\"text-align: right;\">\n",
       "      <th></th>\n",
       "      <th>id_immigration</th>\n",
       "      <th>code_origin</th>\n",
       "      <th>code_destination</th>\n",
       "      <th>code_city_destination</th>\n",
       "      <th>arrival_date</th>\n",
       "      <th>code_travel</th>\n",
       "      <th>addr</th>\n",
       "      <th>depdate</th>\n",
       "      <th>birth</th>\n",
       "      <th>visa</th>\n",
       "      <th>biryear</th>\n",
       "      <th>gender</th>\n",
       "      <th>airline</th>\n",
       "      <th>admission_number</th>\n",
       "      <th>visatype</th>\n",
       "      <th>port_city</th>\n",
       "      <th>port_state</th>\n",
       "    </tr>\n",
       "  </thead>\n",
       "  <tbody>\n",
       "    <tr>\n",
       "      <th>0</th>\n",
       "      <td>452706.0</td>\n",
       "      <td>124.0</td>\n",
       "      <td>124.0</td>\n",
       "      <td>BGM</td>\n",
       "      <td>2016-04-03</td>\n",
       "      <td>1</td>\n",
       "      <td>VA</td>\n",
       "      <td>2016-04-05</td>\n",
       "      <td>38</td>\n",
       "      <td>1.0</td>\n",
       "      <td>1978.0</td>\n",
       "      <td>M</td>\n",
       "      <td>*GA</td>\n",
       "      <td>9.269255e+10</td>\n",
       "      <td>B1</td>\n",
       "      <td>BANGOR</td>\n",
       "      <td>ME</td>\n",
       "    </tr>\n",
       "    <tr>\n",
       "      <th>1</th>\n",
       "      <td>473265.0</td>\n",
       "      <td>135.0</td>\n",
       "      <td>135.0</td>\n",
       "      <td>BGM</td>\n",
       "      <td>2016-04-03</td>\n",
       "      <td>1</td>\n",
       "      <td>NY</td>\n",
       "      <td>None</td>\n",
       "      <td>63</td>\n",
       "      <td>2.0</td>\n",
       "      <td>1953.0</td>\n",
       "      <td>F</td>\n",
       "      <td>R0E</td>\n",
       "      <td>9.266389e+10</td>\n",
       "      <td>B2</td>\n",
       "      <td>BANGOR</td>\n",
       "      <td>ME</td>\n",
       "    </tr>\n",
       "  </tbody>\n",
       "</table>\n",
       "</div>"
      ],
      "text/plain": [
       "   id_immigration  code_origin  code_destination code_city_destination  \\\n",
       "0        452706.0        124.0             124.0                   BGM   \n",
       "1        473265.0        135.0             135.0                   BGM   \n",
       "\n",
       "  arrival_date  code_travel addr     depdate  birth visa  biryear gender  \\\n",
       "0   2016-04-03            1   VA  2016-04-05     38  1.0   1978.0      M   \n",
       "1   2016-04-03            1   NY        None     63  2.0   1953.0      F   \n",
       "\n",
       "  airline  admission_number visatype port_city port_state  \n",
       "0     *GA      9.269255e+10       B1    BANGOR         ME  \n",
       "1     R0E      9.266389e+10       B2    BANGOR         ME  "
      ]
     },
     "execution_count": 117,
     "metadata": {},
     "output_type": "execute_result"
    }
   ],
   "source": [
    "i94_df = i94_df.drop('id')\n",
    "i94_df.limit(2).toPandas()"
   ]
  },
  {
   "cell_type": "code",
   "execution_count": 118,
   "metadata": {
    "editable": true
   },
   "outputs": [],
   "source": [
    "# We join two dataframes \"code_origin\"==\"id\"\n",
    "i94_df = i94_df.join(i94res, i94_df.code_origin==i94res.id, how='left')"
   ]
  },
  {
   "cell_type": "code",
   "execution_count": 119,
   "metadata": {
    "editable": true
   },
   "outputs": [
    {
     "data": {
      "text/html": [
       "<div>\n",
       "<style scoped>\n",
       "    .dataframe tbody tr th:only-of-type {\n",
       "        vertical-align: middle;\n",
       "    }\n",
       "\n",
       "    .dataframe tbody tr th {\n",
       "        vertical-align: top;\n",
       "    }\n",
       "\n",
       "    .dataframe thead th {\n",
       "        text-align: right;\n",
       "    }\n",
       "</style>\n",
       "<table border=\"1\" class=\"dataframe\">\n",
       "  <thead>\n",
       "    <tr style=\"text-align: right;\">\n",
       "      <th></th>\n",
       "      <th>id_immigration</th>\n",
       "      <th>code_origin</th>\n",
       "      <th>code_destination</th>\n",
       "      <th>code_city_destination</th>\n",
       "      <th>arrival_date</th>\n",
       "      <th>code_travel</th>\n",
       "      <th>addr</th>\n",
       "      <th>depdate</th>\n",
       "      <th>birth</th>\n",
       "      <th>visa</th>\n",
       "      <th>biryear</th>\n",
       "      <th>gender</th>\n",
       "      <th>airline</th>\n",
       "      <th>admission_number</th>\n",
       "      <th>visatype</th>\n",
       "      <th>port_city</th>\n",
       "      <th>port_state</th>\n",
       "      <th>id</th>\n",
       "      <th>res_city</th>\n",
       "    </tr>\n",
       "  </thead>\n",
       "  <tbody>\n",
       "    <tr>\n",
       "      <th>0</th>\n",
       "      <td>84827.0</td>\n",
       "      <td>332.0</td>\n",
       "      <td>135.0</td>\n",
       "      <td>DEN</td>\n",
       "      <td>2016-04-01</td>\n",
       "      <td>1</td>\n",
       "      <td>NV</td>\n",
       "      <td>2016-04-20</td>\n",
       "      <td>30</td>\n",
       "      <td>2.0</td>\n",
       "      <td>1986.0</td>\n",
       "      <td>M</td>\n",
       "      <td>AA</td>\n",
       "      <td>9.250508e+10</td>\n",
       "      <td>B2</td>\n",
       "      <td>DENVER</td>\n",
       "      <td>CO</td>\n",
       "      <td>332</td>\n",
       "      <td>MOROCCO</td>\n",
       "    </tr>\n",
       "    <tr>\n",
       "      <th>1</th>\n",
       "      <td>2538.0</td>\n",
       "      <td>107.0</td>\n",
       "      <td>107.0</td>\n",
       "      <td>DET</td>\n",
       "      <td>2016-04-01</td>\n",
       "      <td>1</td>\n",
       "      <td>MI</td>\n",
       "      <td>2016-04-10</td>\n",
       "      <td>46</td>\n",
       "      <td>1.0</td>\n",
       "      <td>1970.0</td>\n",
       "      <td>F</td>\n",
       "      <td>AF</td>\n",
       "      <td>9.248640e+10</td>\n",
       "      <td>B1</td>\n",
       "      <td>DETROIT</td>\n",
       "      <td>MI</td>\n",
       "      <td>107</td>\n",
       "      <td>POLAND</td>\n",
       "    </tr>\n",
       "    <tr>\n",
       "      <th>2</th>\n",
       "      <td>5661654.0</td>\n",
       "      <td>107.0</td>\n",
       "      <td>107.0</td>\n",
       "      <td>CHS</td>\n",
       "      <td>2016-04-30</td>\n",
       "      <td>2</td>\n",
       "      <td>FL</td>\n",
       "      <td>2016-05-12</td>\n",
       "      <td>45</td>\n",
       "      <td>1.0</td>\n",
       "      <td>1971.0</td>\n",
       "      <td>M</td>\n",
       "      <td>VES</td>\n",
       "      <td>9.496288e+10</td>\n",
       "      <td>B1</td>\n",
       "      <td>CHARLESTON</td>\n",
       "      <td>WV</td>\n",
       "      <td>107</td>\n",
       "      <td>POLAND</td>\n",
       "    </tr>\n",
       "    <tr>\n",
       "      <th>3</th>\n",
       "      <td>5661920.0</td>\n",
       "      <td>107.0</td>\n",
       "      <td>107.0</td>\n",
       "      <td>CHS</td>\n",
       "      <td>2016-04-30</td>\n",
       "      <td>2</td>\n",
       "      <td>FL</td>\n",
       "      <td>2016-05-12</td>\n",
       "      <td>50</td>\n",
       "      <td>1.0</td>\n",
       "      <td>1966.0</td>\n",
       "      <td>M</td>\n",
       "      <td>VES</td>\n",
       "      <td>9.496305e+10</td>\n",
       "      <td>B1</td>\n",
       "      <td>CHARLESTON</td>\n",
       "      <td>WV</td>\n",
       "      <td>107</td>\n",
       "      <td>POLAND</td>\n",
       "    </tr>\n",
       "    <tr>\n",
       "      <th>4</th>\n",
       "      <td>2543.0</td>\n",
       "      <td>107.0</td>\n",
       "      <td>107.0</td>\n",
       "      <td>NEW</td>\n",
       "      <td>2016-04-01</td>\n",
       "      <td>1</td>\n",
       "      <td>FL</td>\n",
       "      <td>2016-04-21</td>\n",
       "      <td>7</td>\n",
       "      <td>2.0</td>\n",
       "      <td>2009.0</td>\n",
       "      <td>M</td>\n",
       "      <td>UA</td>\n",
       "      <td>9.247014e+10</td>\n",
       "      <td>B2</td>\n",
       "      <td>NEWARK/TETERBORO</td>\n",
       "      <td>NJ</td>\n",
       "      <td>107</td>\n",
       "      <td>POLAND</td>\n",
       "    </tr>\n",
       "  </tbody>\n",
       "</table>\n",
       "</div>"
      ],
      "text/plain": [
       "   id_immigration  code_origin  code_destination code_city_destination  \\\n",
       "0         84827.0        332.0             135.0                   DEN   \n",
       "1          2538.0        107.0             107.0                   DET   \n",
       "2       5661654.0        107.0             107.0                   CHS   \n",
       "3       5661920.0        107.0             107.0                   CHS   \n",
       "4          2543.0        107.0             107.0                   NEW   \n",
       "\n",
       "  arrival_date  code_travel addr     depdate  birth visa  biryear gender  \\\n",
       "0   2016-04-01            1   NV  2016-04-20     30  2.0   1986.0      M   \n",
       "1   2016-04-01            1   MI  2016-04-10     46  1.0   1970.0      F   \n",
       "2   2016-04-30            2   FL  2016-05-12     45  1.0   1971.0      M   \n",
       "3   2016-04-30            2   FL  2016-05-12     50  1.0   1966.0      M   \n",
       "4   2016-04-01            1   FL  2016-04-21      7  2.0   2009.0      M   \n",
       "\n",
       "  airline  admission_number visatype         port_city port_state       id  \\\n",
       "0      AA      9.250508e+10       B2            DENVER         CO     332    \n",
       "1      AF      9.248640e+10       B1           DETROIT         MI     107    \n",
       "2     VES      9.496288e+10       B1        CHARLESTON         WV     107    \n",
       "3     VES      9.496305e+10       B1        CHARLESTON         WV     107    \n",
       "4      UA      9.247014e+10       B2  NEWARK/TETERBORO         NJ     107    \n",
       "\n",
       "  res_city  \n",
       "0  MOROCCO  \n",
       "1   POLAND  \n",
       "2   POLAND  \n",
       "3   POLAND  \n",
       "4   POLAND  "
      ]
     },
     "execution_count": 119,
     "metadata": {},
     "output_type": "execute_result"
    }
   ],
   "source": [
    "i94_df.limit(5).toPandas()"
   ]
  },
  {
   "cell_type": "code",
   "execution_count": 120,
   "metadata": {
    "editable": true
   },
   "outputs": [],
   "source": [
    "i94_df = i94_df.drop(\"code_origin\", \"id\")"
   ]
  },
  {
   "cell_type": "code",
   "execution_count": 121,
   "metadata": {
    "editable": true
   },
   "outputs": [
    {
     "data": {
      "text/html": [
       "<div>\n",
       "<style scoped>\n",
       "    .dataframe tbody tr th:only-of-type {\n",
       "        vertical-align: middle;\n",
       "    }\n",
       "\n",
       "    .dataframe tbody tr th {\n",
       "        vertical-align: top;\n",
       "    }\n",
       "\n",
       "    .dataframe thead th {\n",
       "        text-align: right;\n",
       "    }\n",
       "</style>\n",
       "<table border=\"1\" class=\"dataframe\">\n",
       "  <thead>\n",
       "    <tr style=\"text-align: right;\">\n",
       "      <th></th>\n",
       "      <th>id_immigration</th>\n",
       "      <th>code_destination</th>\n",
       "      <th>code_city_destination</th>\n",
       "      <th>arrival_date</th>\n",
       "      <th>code_travel</th>\n",
       "      <th>addr</th>\n",
       "      <th>depdate</th>\n",
       "      <th>birth</th>\n",
       "      <th>visa</th>\n",
       "      <th>biryear</th>\n",
       "      <th>gender</th>\n",
       "      <th>airline</th>\n",
       "      <th>admission_number</th>\n",
       "      <th>visatype</th>\n",
       "      <th>port_city</th>\n",
       "      <th>port_state</th>\n",
       "      <th>res_city</th>\n",
       "    </tr>\n",
       "  </thead>\n",
       "  <tbody>\n",
       "    <tr>\n",
       "      <th>0</th>\n",
       "      <td>4471537.0</td>\n",
       "      <td>393.0</td>\n",
       "      <td>SPM</td>\n",
       "      <td>2016-04-23</td>\n",
       "      <td>1</td>\n",
       "      <td>MN</td>\n",
       "      <td>2016-05-20</td>\n",
       "      <td>35</td>\n",
       "      <td>1.0</td>\n",
       "      <td>1981.0</td>\n",
       "      <td>M</td>\n",
       "      <td>DL</td>\n",
       "      <td>9.434512e+10</td>\n",
       "      <td>B1</td>\n",
       "      <td>ST PAUL</td>\n",
       "      <td>MN</td>\n",
       "      <td>None</td>\n",
       "    </tr>\n",
       "    <tr>\n",
       "      <th>1</th>\n",
       "      <td>2664555.0</td>\n",
       "      <td>393.0</td>\n",
       "      <td>SPM</td>\n",
       "      <td>2016-04-14</td>\n",
       "      <td>1</td>\n",
       "      <td>NE</td>\n",
       "      <td>None</td>\n",
       "      <td>52</td>\n",
       "      <td>2.0</td>\n",
       "      <td>1964.0</td>\n",
       "      <td>F</td>\n",
       "      <td>DL</td>\n",
       "      <td>9.350732e+10</td>\n",
       "      <td>B2</td>\n",
       "      <td>ST PAUL</td>\n",
       "      <td>MN</td>\n",
       "      <td>None</td>\n",
       "    </tr>\n",
       "  </tbody>\n",
       "</table>\n",
       "</div>"
      ],
      "text/plain": [
       "   id_immigration  code_destination code_city_destination arrival_date  \\\n",
       "0       4471537.0             393.0                   SPM   2016-04-23   \n",
       "1       2664555.0             393.0                   SPM   2016-04-14   \n",
       "\n",
       "   code_travel addr     depdate  birth visa  biryear gender airline  \\\n",
       "0            1   MN  2016-05-20     35  1.0   1981.0      M      DL   \n",
       "1            1   NE        None     52  2.0   1964.0      F      DL   \n",
       "\n",
       "   admission_number visatype port_city port_state res_city  \n",
       "0      9.434512e+10       B1   ST PAUL         MN     None  \n",
       "1      9.350732e+10       B2   ST PAUL         MN     None  "
      ]
     },
     "execution_count": 121,
     "metadata": {},
     "output_type": "execute_result"
    }
   ],
   "source": [
    "i94_df.limit(2).toPandas()"
   ]
  },
  {
   "cell_type": "code",
   "execution_count": 122,
   "metadata": {
    "editable": true
   },
   "outputs": [
    {
     "data": {
      "text/html": [
       "<div>\n",
       "<style scoped>\n",
       "    .dataframe tbody tr th:only-of-type {\n",
       "        vertical-align: middle;\n",
       "    }\n",
       "\n",
       "    .dataframe tbody tr th {\n",
       "        vertical-align: top;\n",
       "    }\n",
       "\n",
       "    .dataframe thead th {\n",
       "        text-align: right;\n",
       "    }\n",
       "</style>\n",
       "<table border=\"1\" class=\"dataframe\">\n",
       "  <thead>\n",
       "    <tr style=\"text-align: right;\">\n",
       "      <th></th>\n",
       "      <th>id_immigration</th>\n",
       "      <th>origin</th>\n",
       "      <th>code_destination</th>\n",
       "      <th>code_city_destination</th>\n",
       "      <th>arrival_date</th>\n",
       "      <th>code_travel</th>\n",
       "      <th>addr</th>\n",
       "      <th>depdate</th>\n",
       "      <th>birth</th>\n",
       "      <th>visa</th>\n",
       "      <th>biryear</th>\n",
       "      <th>gender</th>\n",
       "      <th>airline</th>\n",
       "      <th>admission_number</th>\n",
       "      <th>visatype</th>\n",
       "      <th>port_city</th>\n",
       "      <th>port_state</th>\n",
       "    </tr>\n",
       "  </thead>\n",
       "  <tbody>\n",
       "    <tr>\n",
       "      <th>0</th>\n",
       "      <td>4471537.0</td>\n",
       "      <td>None</td>\n",
       "      <td>393.0</td>\n",
       "      <td>SPM</td>\n",
       "      <td>2016-04-23</td>\n",
       "      <td>1</td>\n",
       "      <td>MN</td>\n",
       "      <td>2016-05-20</td>\n",
       "      <td>35</td>\n",
       "      <td>1.0</td>\n",
       "      <td>1981.0</td>\n",
       "      <td>M</td>\n",
       "      <td>DL</td>\n",
       "      <td>9.434512e+10</td>\n",
       "      <td>B1</td>\n",
       "      <td>ST PAUL</td>\n",
       "      <td>MN</td>\n",
       "    </tr>\n",
       "    <tr>\n",
       "      <th>1</th>\n",
       "      <td>2664555.0</td>\n",
       "      <td>None</td>\n",
       "      <td>393.0</td>\n",
       "      <td>SPM</td>\n",
       "      <td>2016-04-14</td>\n",
       "      <td>1</td>\n",
       "      <td>NE</td>\n",
       "      <td>None</td>\n",
       "      <td>52</td>\n",
       "      <td>2.0</td>\n",
       "      <td>1964.0</td>\n",
       "      <td>F</td>\n",
       "      <td>DL</td>\n",
       "      <td>9.350732e+10</td>\n",
       "      <td>B2</td>\n",
       "      <td>ST PAUL</td>\n",
       "      <td>MN</td>\n",
       "    </tr>\n",
       "    <tr>\n",
       "      <th>2</th>\n",
       "      <td>2664554.0</td>\n",
       "      <td>None</td>\n",
       "      <td>393.0</td>\n",
       "      <td>SPM</td>\n",
       "      <td>2016-04-14</td>\n",
       "      <td>1</td>\n",
       "      <td>CO</td>\n",
       "      <td>2016-05-31</td>\n",
       "      <td>55</td>\n",
       "      <td>2.0</td>\n",
       "      <td>1961.0</td>\n",
       "      <td>F</td>\n",
       "      <td>DL</td>\n",
       "      <td>9.350614e+10</td>\n",
       "      <td>B2</td>\n",
       "      <td>ST PAUL</td>\n",
       "      <td>MN</td>\n",
       "    </tr>\n",
       "    <tr>\n",
       "      <th>3</th>\n",
       "      <td>4029929.0</td>\n",
       "      <td>None</td>\n",
       "      <td>393.0</td>\n",
       "      <td>PBB</td>\n",
       "      <td>2016-04-21</td>\n",
       "      <td>3</td>\n",
       "      <td>None</td>\n",
       "      <td>2016-04-25</td>\n",
       "      <td>33</td>\n",
       "      <td>2.0</td>\n",
       "      <td>1983.0</td>\n",
       "      <td>M</td>\n",
       "      <td>None</td>\n",
       "      <td>9.166256e+10</td>\n",
       "      <td>B2</td>\n",
       "      <td>PEACE BRIDGE</td>\n",
       "      <td>NY</td>\n",
       "    </tr>\n",
       "    <tr>\n",
       "      <th>4</th>\n",
       "      <td>980814.0</td>\n",
       "      <td>None</td>\n",
       "      <td>393.0</td>\n",
       "      <td>DET</td>\n",
       "      <td>2016-04-05</td>\n",
       "      <td>1</td>\n",
       "      <td>NY</td>\n",
       "      <td>None</td>\n",
       "      <td>47</td>\n",
       "      <td>1.0</td>\n",
       "      <td>1969.0</td>\n",
       "      <td>M</td>\n",
       "      <td>AF</td>\n",
       "      <td>9.280971e+10</td>\n",
       "      <td>B1</td>\n",
       "      <td>DETROIT</td>\n",
       "      <td>MI</td>\n",
       "    </tr>\n",
       "  </tbody>\n",
       "</table>\n",
       "</div>"
      ],
      "text/plain": [
       "   id_immigration origin  code_destination code_city_destination arrival_date  \\\n",
       "0       4471537.0   None             393.0                   SPM   2016-04-23   \n",
       "1       2664555.0   None             393.0                   SPM   2016-04-14   \n",
       "2       2664554.0   None             393.0                   SPM   2016-04-14   \n",
       "3       4029929.0   None             393.0                   PBB   2016-04-21   \n",
       "4        980814.0   None             393.0                   DET   2016-04-05   \n",
       "\n",
       "   code_travel  addr     depdate  birth visa  biryear gender airline  \\\n",
       "0            1    MN  2016-05-20     35  1.0   1981.0      M      DL   \n",
       "1            1    NE        None     52  2.0   1964.0      F      DL   \n",
       "2            1    CO  2016-05-31     55  2.0   1961.0      F      DL   \n",
       "3            3  None  2016-04-25     33  2.0   1983.0      M    None   \n",
       "4            1    NY        None     47  1.0   1969.0      M      AF   \n",
       "\n",
       "   admission_number visatype     port_city port_state  \n",
       "0      9.434512e+10       B1       ST PAUL         MN  \n",
       "1      9.350732e+10       B2       ST PAUL         MN  \n",
       "2      9.350614e+10       B2       ST PAUL         MN  \n",
       "3      9.166256e+10       B2  PEACE BRIDGE         NY  \n",
       "4      9.280971e+10       B1       DETROIT         MI  "
      ]
     },
     "execution_count": 122,
     "metadata": {},
     "output_type": "execute_result"
    }
   ],
   "source": [
    "# Immigration data will be assessed with the function \"immigration\" and option 2\n",
    "i94_df = immigration(i94_df, 2)\n",
    "i94_df.limit(5).toPandas()"
   ]
  },
  {
   "cell_type": "code",
   "execution_count": 123,
   "metadata": {
    "editable": true
   },
   "outputs": [
    {
     "data": {
      "text/plain": [
       "3096313"
      ]
     },
     "execution_count": 123,
     "metadata": {},
     "output_type": "execute_result"
    }
   ],
   "source": [
    "i94_df.count()"
   ]
  },
  {
   "cell_type": "code",
   "execution_count": 124,
   "metadata": {
    "editable": true
   },
   "outputs": [],
   "source": [
    "# With the instruction \"dropna\", we are going to remove every row that has a null value in the column \"origin\"\n",
    "i94_df = i94_df.dropna(subset=['origin'])"
   ]
  },
  {
   "cell_type": "code",
   "execution_count": 125,
   "metadata": {
    "editable": true
   },
   "outputs": [
    {
     "data": {
      "text/plain": [
       "2710124"
      ]
     },
     "execution_count": 125,
     "metadata": {},
     "output_type": "execute_result"
    }
   ],
   "source": [
    "i94_df.count()"
   ]
  },
  {
   "cell_type": "code",
   "execution_count": 126,
   "metadata": {
    "editable": true
   },
   "outputs": [],
   "source": [
    "# We join two dataframes \"code_destination\"==\"id\"\n",
    "i94_df = i94_df.join(i94res, i94_df.code_destination==i94res.id, how='left')\n",
    "i94_df = i94_df.drop(\"code_destination\", \"id\")"
   ]
  },
  {
   "cell_type": "code",
   "execution_count": 127,
   "metadata": {
    "editable": true
   },
   "outputs": [
    {
     "data": {
      "text/html": [
       "<div>\n",
       "<style scoped>\n",
       "    .dataframe tbody tr th:only-of-type {\n",
       "        vertical-align: middle;\n",
       "    }\n",
       "\n",
       "    .dataframe tbody tr th {\n",
       "        vertical-align: top;\n",
       "    }\n",
       "\n",
       "    .dataframe thead th {\n",
       "        text-align: right;\n",
       "    }\n",
       "</style>\n",
       "<table border=\"1\" class=\"dataframe\">\n",
       "  <thead>\n",
       "    <tr style=\"text-align: right;\">\n",
       "      <th></th>\n",
       "      <th>id_immigration</th>\n",
       "      <th>origin</th>\n",
       "      <th>destination</th>\n",
       "      <th>code_city_destination</th>\n",
       "      <th>arrival_date</th>\n",
       "      <th>code_travel</th>\n",
       "      <th>addr</th>\n",
       "      <th>depdate</th>\n",
       "      <th>birth</th>\n",
       "      <th>visa</th>\n",
       "      <th>biryear</th>\n",
       "      <th>gender</th>\n",
       "      <th>airline</th>\n",
       "      <th>admission_number</th>\n",
       "      <th>visatype</th>\n",
       "      <th>port_city</th>\n",
       "    </tr>\n",
       "  </thead>\n",
       "  <tbody>\n",
       "    <tr>\n",
       "      <th>0</th>\n",
       "      <td>2049260.0</td>\n",
       "      <td>MOROCCO</td>\n",
       "      <td>MOROCCO</td>\n",
       "      <td>BGM</td>\n",
       "      <td>2016-04-11</td>\n",
       "      <td>1</td>\n",
       "      <td>GA</td>\n",
       "      <td>2016-04-17</td>\n",
       "      <td>45</td>\n",
       "      <td>1.0</td>\n",
       "      <td>1971.0</td>\n",
       "      <td>M</td>\n",
       "      <td>*GA</td>\n",
       "      <td>9.327295e+10</td>\n",
       "      <td>B1</td>\n",
       "      <td>BANGOR</td>\n",
       "    </tr>\n",
       "    <tr>\n",
       "      <th>1</th>\n",
       "      <td>2049259.0</td>\n",
       "      <td>MOROCCO</td>\n",
       "      <td>MOROCCO</td>\n",
       "      <td>BGM</td>\n",
       "      <td>2016-04-11</td>\n",
       "      <td>1</td>\n",
       "      <td>GA</td>\n",
       "      <td>2016-04-16</td>\n",
       "      <td>40</td>\n",
       "      <td>1.0</td>\n",
       "      <td>1976.0</td>\n",
       "      <td>M</td>\n",
       "      <td>*GA</td>\n",
       "      <td>9.327322e+10</td>\n",
       "      <td>B1</td>\n",
       "      <td>BANGOR</td>\n",
       "    </tr>\n",
       "    <tr>\n",
       "      <th>2</th>\n",
       "      <td>4920334.0</td>\n",
       "      <td>MOROCCO</td>\n",
       "      <td>MOROCCO</td>\n",
       "      <td>FMY</td>\n",
       "      <td>2016-04-26</td>\n",
       "      <td>1</td>\n",
       "      <td>NY</td>\n",
       "      <td>2016-04-27</td>\n",
       "      <td>30</td>\n",
       "      <td>2.0</td>\n",
       "      <td>1986.0</td>\n",
       "      <td>M</td>\n",
       "      <td>AT</td>\n",
       "      <td>9.461489e+10</td>\n",
       "      <td>B2</td>\n",
       "      <td>FORT MYERS</td>\n",
       "    </tr>\n",
       "    <tr>\n",
       "      <th>3</th>\n",
       "      <td>2950301.0</td>\n",
       "      <td>MOROCCO</td>\n",
       "      <td>MOROCCO</td>\n",
       "      <td>FMY</td>\n",
       "      <td>2016-04-16</td>\n",
       "      <td>1</td>\n",
       "      <td>PA</td>\n",
       "      <td>2016-04-23</td>\n",
       "      <td>27</td>\n",
       "      <td>1.0</td>\n",
       "      <td>1989.0</td>\n",
       "      <td>F</td>\n",
       "      <td>ZX</td>\n",
       "      <td>9.371323e+10</td>\n",
       "      <td>B1</td>\n",
       "      <td>FORT MYERS</td>\n",
       "    </tr>\n",
       "    <tr>\n",
       "      <th>4</th>\n",
       "      <td>2950257.0</td>\n",
       "      <td>MOROCCO</td>\n",
       "      <td>MOROCCO</td>\n",
       "      <td>FMY</td>\n",
       "      <td>2016-04-16</td>\n",
       "      <td>1</td>\n",
       "      <td>DC</td>\n",
       "      <td>2016-06-16</td>\n",
       "      <td>53</td>\n",
       "      <td>2.0</td>\n",
       "      <td>1963.0</td>\n",
       "      <td>F</td>\n",
       "      <td>AF</td>\n",
       "      <td>9.373336e+10</td>\n",
       "      <td>B2</td>\n",
       "      <td>FORT MYERS</td>\n",
       "    </tr>\n",
       "  </tbody>\n",
       "</table>\n",
       "</div>"
      ],
      "text/plain": [
       "   id_immigration   origin destination code_city_destination arrival_date  \\\n",
       "0       2049260.0  MOROCCO     MOROCCO                   BGM   2016-04-11   \n",
       "1       2049259.0  MOROCCO     MOROCCO                   BGM   2016-04-11   \n",
       "2       4920334.0  MOROCCO     MOROCCO                   FMY   2016-04-26   \n",
       "3       2950301.0  MOROCCO     MOROCCO                   FMY   2016-04-16   \n",
       "4       2950257.0  MOROCCO     MOROCCO                   FMY   2016-04-16   \n",
       "\n",
       "   code_travel addr     depdate  birth visa  biryear gender airline  \\\n",
       "0            1   GA  2016-04-17     45  1.0   1971.0      M     *GA   \n",
       "1            1   GA  2016-04-16     40  1.0   1976.0      M     *GA   \n",
       "2            1   NY  2016-04-27     30  2.0   1986.0      M      AT   \n",
       "3            1   PA  2016-04-23     27  1.0   1989.0      F      ZX   \n",
       "4            1   DC  2016-06-16     53  2.0   1963.0      F      AF   \n",
       "\n",
       "   admission_number visatype   port_city  \n",
       "0      9.327295e+10       B1      BANGOR  \n",
       "1      9.327322e+10       B1      BANGOR  \n",
       "2      9.461489e+10       B2  FORT MYERS  \n",
       "3      9.371323e+10       B1  FORT MYERS  \n",
       "4      9.373336e+10       B2  FORT MYERS  "
      ]
     },
     "execution_count": 127,
     "metadata": {},
     "output_type": "execute_result"
    }
   ],
   "source": [
    "# Immigration data will be assessed with the function \"immigration\" and option 3\n",
    "i94_df = immigration(i94_df, 3)\n",
    "i94_df.limit(5).toPandas()"
   ]
  },
  {
   "cell_type": "code",
   "execution_count": 128,
   "metadata": {
    "editable": true
   },
   "outputs": [
    {
     "data": {
      "text/plain": [
       "2710124"
      ]
     },
     "execution_count": 128,
     "metadata": {},
     "output_type": "execute_result"
    }
   ],
   "source": [
    "# With the instruction \"drop\" is removed the columns \"port_state\"\n",
    "# With the instruction \"dropna\", we are going to remove every row that has a null value in the column \"destination\"\n",
    "i94_df = i94_df.drop(\"port_state\")\n",
    "i94_df = i94_df.dropna(subset=['destination'])\n",
    "i94_df.count()"
   ]
  },
  {
   "cell_type": "code",
   "execution_count": 129,
   "metadata": {
    "editable": true
   },
   "outputs": [],
   "source": [
    "# We join two dataframes \"code_travel\"==\"numbers_code_travel\"\n",
    "i94_df = i94_df.join(i94code_travel, i94_df.code_travel==i94code_travel.numbers_code_travel, how='left')"
   ]
  },
  {
   "cell_type": "code",
   "execution_count": 130,
   "metadata": {
    "editable": true
   },
   "outputs": [
    {
     "name": "stdout",
     "output_type": "stream",
     "text": [
      "root\n",
      " |-- id_immigration: float (nullable = true)\n",
      " |-- origin: string (nullable = true)\n",
      " |-- destination: string (nullable = true)\n",
      " |-- code_city_destination: string (nullable = true)\n",
      " |-- arrival_date: string (nullable = true)\n",
      " |-- travel: string (nullable = true)\n",
      " |-- addr: string (nullable = true)\n",
      " |-- depdate: string (nullable = true)\n",
      " |-- birth: integer (nullable = true)\n",
      " |-- visa: string (nullable = true)\n",
      " |-- biryear: float (nullable = true)\n",
      " |-- gender: string (nullable = true)\n",
      " |-- airline: string (nullable = true)\n",
      " |-- admission_number: double (nullable = true)\n",
      " |-- visatype: string (nullable = true)\n",
      " |-- port_city: string (nullable = true)\n",
      "\n"
     ]
    }
   ],
   "source": [
    "# Immigration data will be assessed with the function \"immigration\" and option 4\n",
    "i94_df = immigration(i94_df, 4)\n",
    "i94_df.printSchema()"
   ]
  },
  {
   "cell_type": "code",
   "execution_count": 131,
   "metadata": {
    "editable": true
   },
   "outputs": [
    {
     "data": {
      "text/html": [
       "<div>\n",
       "<style scoped>\n",
       "    .dataframe tbody tr th:only-of-type {\n",
       "        vertical-align: middle;\n",
       "    }\n",
       "\n",
       "    .dataframe tbody tr th {\n",
       "        vertical-align: top;\n",
       "    }\n",
       "\n",
       "    .dataframe thead th {\n",
       "        text-align: right;\n",
       "    }\n",
       "</style>\n",
       "<table border=\"1\" class=\"dataframe\">\n",
       "  <thead>\n",
       "    <tr style=\"text-align: right;\">\n",
       "      <th></th>\n",
       "      <th>id_immigration</th>\n",
       "      <th>origin</th>\n",
       "      <th>destination</th>\n",
       "      <th>code_city_destination</th>\n",
       "      <th>arrival_date</th>\n",
       "      <th>travel</th>\n",
       "      <th>addr</th>\n",
       "      <th>depdate</th>\n",
       "      <th>birth</th>\n",
       "      <th>visa</th>\n",
       "      <th>biryear</th>\n",
       "      <th>gender</th>\n",
       "      <th>airline</th>\n",
       "      <th>admission_number</th>\n",
       "      <th>visatype</th>\n",
       "      <th>port_city</th>\n",
       "    </tr>\n",
       "  </thead>\n",
       "  <tbody>\n",
       "    <tr>\n",
       "      <th>0</th>\n",
       "      <td>6.0</td>\n",
       "      <td>ECUADOR</td>\n",
       "      <td>ECUADOR</td>\n",
       "      <td>XXX</td>\n",
       "      <td>2016-04-29</td>\n",
       "      <td>None</td>\n",
       "      <td>None</td>\n",
       "      <td>None</td>\n",
       "      <td>37</td>\n",
       "      <td>2.0</td>\n",
       "      <td>1979.0</td>\n",
       "      <td>None</td>\n",
       "      <td>None</td>\n",
       "      <td>1.897628e+09</td>\n",
       "      <td>B2</td>\n",
       "      <td>NOT REPORTED/UNKNOWN</td>\n",
       "    </tr>\n",
       "    <tr>\n",
       "      <th>1</th>\n",
       "      <td>5895929.0</td>\n",
       "      <td>ECUADOR</td>\n",
       "      <td>ECUADOR</td>\n",
       "      <td>XXX</td>\n",
       "      <td>2016-04-04</td>\n",
       "      <td>None</td>\n",
       "      <td>None</td>\n",
       "      <td>2016-04-30</td>\n",
       "      <td>48</td>\n",
       "      <td>2.0</td>\n",
       "      <td>1968.0</td>\n",
       "      <td>None</td>\n",
       "      <td>None</td>\n",
       "      <td>6.802401e+08</td>\n",
       "      <td>B2</td>\n",
       "      <td>NOT REPORTED/UNKNOWN</td>\n",
       "    </tr>\n",
       "    <tr>\n",
       "      <th>2</th>\n",
       "      <td>5197313.0</td>\n",
       "      <td>ECUADOR</td>\n",
       "      <td>ECUADOR</td>\n",
       "      <td>NYC</td>\n",
       "      <td>2016-04-13</td>\n",
       "      <td>None</td>\n",
       "      <td>None</td>\n",
       "      <td>2016-04-26</td>\n",
       "      <td>27</td>\n",
       "      <td>2.0</td>\n",
       "      <td>1989.0</td>\n",
       "      <td>None</td>\n",
       "      <td>None</td>\n",
       "      <td>7.947135e+08</td>\n",
       "      <td>B2</td>\n",
       "      <td>NEW YORK</td>\n",
       "    </tr>\n",
       "    <tr>\n",
       "      <th>3</th>\n",
       "      <td>5908900.0</td>\n",
       "      <td>ARGENTINA</td>\n",
       "      <td>ARGENTINA</td>\n",
       "      <td>XXX</td>\n",
       "      <td>2016-04-19</td>\n",
       "      <td>None</td>\n",
       "      <td>None</td>\n",
       "      <td>2016-05-02</td>\n",
       "      <td>28</td>\n",
       "      <td>2.0</td>\n",
       "      <td>1988.0</td>\n",
       "      <td>None</td>\n",
       "      <td>None</td>\n",
       "      <td>8.217001e+08</td>\n",
       "      <td>B2</td>\n",
       "      <td>NOT REPORTED/UNKNOWN</td>\n",
       "    </tr>\n",
       "    <tr>\n",
       "      <th>4</th>\n",
       "      <td>2762092.0</td>\n",
       "      <td>TRINIDAD AND TOBAGO</td>\n",
       "      <td>TRINIDAD AND TOBAGO</td>\n",
       "      <td>XXX</td>\n",
       "      <td>2016-04-05</td>\n",
       "      <td>None</td>\n",
       "      <td>None</td>\n",
       "      <td>2016-04-15</td>\n",
       "      <td>33</td>\n",
       "      <td>2.0</td>\n",
       "      <td>1983.0</td>\n",
       "      <td>None</td>\n",
       "      <td>None</td>\n",
       "      <td>9.278757e+10</td>\n",
       "      <td>B2</td>\n",
       "      <td>NOT REPORTED/UNKNOWN</td>\n",
       "    </tr>\n",
       "  </tbody>\n",
       "</table>\n",
       "</div>"
      ],
      "text/plain": [
       "   id_immigration               origin          destination  \\\n",
       "0             6.0              ECUADOR              ECUADOR   \n",
       "1       5895929.0              ECUADOR              ECUADOR   \n",
       "2       5197313.0              ECUADOR              ECUADOR   \n",
       "3       5908900.0            ARGENTINA            ARGENTINA   \n",
       "4       2762092.0  TRINIDAD AND TOBAGO  TRINIDAD AND TOBAGO   \n",
       "\n",
       "  code_city_destination arrival_date travel  addr     depdate  birth visa  \\\n",
       "0                   XXX   2016-04-29   None  None        None     37  2.0   \n",
       "1                   XXX   2016-04-04   None  None  2016-04-30     48  2.0   \n",
       "2                   NYC   2016-04-13   None  None  2016-04-26     27  2.0   \n",
       "3                   XXX   2016-04-19   None  None  2016-05-02     28  2.0   \n",
       "4                   XXX   2016-04-05   None  None  2016-04-15     33  2.0   \n",
       "\n",
       "   biryear gender airline  admission_number visatype             port_city  \n",
       "0   1979.0   None    None      1.897628e+09       B2  NOT REPORTED/UNKNOWN  \n",
       "1   1968.0   None    None      6.802401e+08       B2  NOT REPORTED/UNKNOWN  \n",
       "2   1989.0   None    None      7.947135e+08       B2              NEW YORK  \n",
       "3   1988.0   None    None      8.217001e+08       B2  NOT REPORTED/UNKNOWN  \n",
       "4   1983.0   None    None      9.278757e+10       B2  NOT REPORTED/UNKNOWN  "
      ]
     },
     "execution_count": 131,
     "metadata": {},
     "output_type": "execute_result"
    }
   ],
   "source": [
    "i94_df.limit(5).toPandas()"
   ]
  },
  {
   "cell_type": "code",
   "execution_count": 132,
   "metadata": {
    "editable": true
   },
   "outputs": [
    {
     "data": {
      "text/plain": [
       "2709889"
      ]
     },
     "execution_count": 132,
     "metadata": {},
     "output_type": "execute_result"
    }
   ],
   "source": [
    "# With the instruction \"dropna\", we are going to remove every row that has a null value in the column \"travel\"\n",
    "i94_df = i94_df.dropna(subset=['travel'])\n",
    "i94_df.count()"
   ]
  },
  {
   "cell_type": "code",
   "execution_count": 133,
   "metadata": {
    "editable": true
   },
   "outputs": [
    {
     "name": "stdout",
     "output_type": "stream",
     "text": [
      "+----+\n",
      "|visa|\n",
      "+----+\n",
      "| 1.0|\n",
      "| 2.0|\n",
      "| 3.0|\n",
      "+----+\n",
      "\n"
     ]
    }
   ],
   "source": [
    "i94_df[['visa']].dropDuplicates().show()"
   ]
  },
  {
   "cell_type": "code",
   "execution_count": 134,
   "metadata": {
    "editable": true
   },
   "outputs": [
    {
     "data": {
      "text/html": [
       "<div>\n",
       "<style scoped>\n",
       "    .dataframe tbody tr th:only-of-type {\n",
       "        vertical-align: middle;\n",
       "    }\n",
       "\n",
       "    .dataframe tbody tr th {\n",
       "        vertical-align: top;\n",
       "    }\n",
       "\n",
       "    .dataframe thead th {\n",
       "        text-align: right;\n",
       "    }\n",
       "</style>\n",
       "<table border=\"1\" class=\"dataframe\">\n",
       "  <thead>\n",
       "    <tr style=\"text-align: right;\">\n",
       "      <th></th>\n",
       "      <th>id_immigration</th>\n",
       "      <th>origin</th>\n",
       "      <th>destination</th>\n",
       "      <th>code_city_destination</th>\n",
       "      <th>arrival_date</th>\n",
       "      <th>travel</th>\n",
       "      <th>addr</th>\n",
       "      <th>depdate</th>\n",
       "      <th>birth</th>\n",
       "      <th>visa</th>\n",
       "      <th>biryear</th>\n",
       "      <th>gender</th>\n",
       "      <th>airline</th>\n",
       "      <th>admission_number</th>\n",
       "      <th>visatype</th>\n",
       "      <th>port_city</th>\n",
       "      <th>numbers_visa</th>\n",
       "      <th>type</th>\n",
       "    </tr>\n",
       "  </thead>\n",
       "  <tbody>\n",
       "    <tr>\n",
       "      <th>0</th>\n",
       "      <td>5908962.0</td>\n",
       "      <td>INVALID: UNKNOWN</td>\n",
       "      <td>POLAND</td>\n",
       "      <td>SDP</td>\n",
       "      <td>2016-04-11</td>\n",
       "      <td>Rot reported</td>\n",
       "      <td>None</td>\n",
       "      <td>None</td>\n",
       "      <td>53</td>\n",
       "      <td>1.0</td>\n",
       "      <td>1963.0</td>\n",
       "      <td>M</td>\n",
       "      <td>None</td>\n",
       "      <td>4.355831e+10</td>\n",
       "      <td>B1</td>\n",
       "      <td>SAN DIEGO</td>\n",
       "      <td>1</td>\n",
       "      <td>Business</td>\n",
       "    </tr>\n",
       "    <tr>\n",
       "      <th>1</th>\n",
       "      <td>2049260.0</td>\n",
       "      <td>MOROCCO</td>\n",
       "      <td>MOROCCO</td>\n",
       "      <td>BGM</td>\n",
       "      <td>2016-04-11</td>\n",
       "      <td>Air</td>\n",
       "      <td>GA</td>\n",
       "      <td>2016-04-17</td>\n",
       "      <td>45</td>\n",
       "      <td>1.0</td>\n",
       "      <td>1971.0</td>\n",
       "      <td>M</td>\n",
       "      <td>*GA</td>\n",
       "      <td>9.327295e+10</td>\n",
       "      <td>B1</td>\n",
       "      <td>BANGOR</td>\n",
       "      <td>1</td>\n",
       "      <td>Business</td>\n",
       "    </tr>\n",
       "    <tr>\n",
       "      <th>2</th>\n",
       "      <td>2049259.0</td>\n",
       "      <td>MOROCCO</td>\n",
       "      <td>MOROCCO</td>\n",
       "      <td>BGM</td>\n",
       "      <td>2016-04-11</td>\n",
       "      <td>Air</td>\n",
       "      <td>GA</td>\n",
       "      <td>2016-04-16</td>\n",
       "      <td>40</td>\n",
       "      <td>1.0</td>\n",
       "      <td>1976.0</td>\n",
       "      <td>M</td>\n",
       "      <td>*GA</td>\n",
       "      <td>9.327322e+10</td>\n",
       "      <td>B1</td>\n",
       "      <td>BANGOR</td>\n",
       "      <td>1</td>\n",
       "      <td>Business</td>\n",
       "    </tr>\n",
       "    <tr>\n",
       "      <th>3</th>\n",
       "      <td>5014497.0</td>\n",
       "      <td>POLAND</td>\n",
       "      <td>POLAND</td>\n",
       "      <td>SNA</td>\n",
       "      <td>2016-04-27</td>\n",
       "      <td>Sea</td>\n",
       "      <td>None</td>\n",
       "      <td>2016-05-08</td>\n",
       "      <td>51</td>\n",
       "      <td>1.0</td>\n",
       "      <td>1965.0</td>\n",
       "      <td>M</td>\n",
       "      <td>VES</td>\n",
       "      <td>9.468787e+10</td>\n",
       "      <td>B1</td>\n",
       "      <td>SAN ANTONIO</td>\n",
       "      <td>1</td>\n",
       "      <td>Business</td>\n",
       "    </tr>\n",
       "    <tr>\n",
       "      <th>4</th>\n",
       "      <td>5014499.0</td>\n",
       "      <td>POLAND</td>\n",
       "      <td>POLAND</td>\n",
       "      <td>SNA</td>\n",
       "      <td>2016-04-27</td>\n",
       "      <td>Sea</td>\n",
       "      <td>None</td>\n",
       "      <td>2016-05-08</td>\n",
       "      <td>48</td>\n",
       "      <td>1.0</td>\n",
       "      <td>1968.0</td>\n",
       "      <td>F</td>\n",
       "      <td>VES</td>\n",
       "      <td>9.468272e+10</td>\n",
       "      <td>B1</td>\n",
       "      <td>SAN ANTONIO</td>\n",
       "      <td>1</td>\n",
       "      <td>Business</td>\n",
       "    </tr>\n",
       "  </tbody>\n",
       "</table>\n",
       "</div>"
      ],
      "text/plain": [
       "   id_immigration            origin destination code_city_destination  \\\n",
       "0       5908962.0  INVALID: UNKNOWN      POLAND                   SDP   \n",
       "1       2049260.0           MOROCCO     MOROCCO                   BGM   \n",
       "2       2049259.0           MOROCCO     MOROCCO                   BGM   \n",
       "3       5014497.0            POLAND      POLAND                   SNA   \n",
       "4       5014499.0            POLAND      POLAND                   SNA   \n",
       "\n",
       "  arrival_date        travel  addr     depdate  birth visa  biryear gender  \\\n",
       "0   2016-04-11  Rot reported  None        None     53  1.0   1963.0      M   \n",
       "1   2016-04-11           Air    GA  2016-04-17     45  1.0   1971.0      M   \n",
       "2   2016-04-11           Air    GA  2016-04-16     40  1.0   1976.0      M   \n",
       "3   2016-04-27           Sea  None  2016-05-08     51  1.0   1965.0      M   \n",
       "4   2016-04-27           Sea  None  2016-05-08     48  1.0   1968.0      F   \n",
       "\n",
       "  airline  admission_number visatype    port_city  numbers_visa      type  \n",
       "0    None      4.355831e+10       B1    SAN DIEGO             1  Business  \n",
       "1     *GA      9.327295e+10       B1       BANGOR             1  Business  \n",
       "2     *GA      9.327322e+10       B1       BANGOR             1  Business  \n",
       "3     VES      9.468787e+10       B1  SAN ANTONIO             1  Business  \n",
       "4     VES      9.468272e+10       B1  SAN ANTONIO             1  Business  "
      ]
     },
     "execution_count": 134,
     "metadata": {},
     "output_type": "execute_result"
    }
   ],
   "source": [
    "# We are going to analyze the \"visa\" data where we will assess the character of that column\n",
    "'''\n",
    "/ TYPE OF VISA/\n",
    "    1 = 'Business'\n",
    "    2 = 'Holiday'\n",
    "    3 = 'Study'\n",
    "'''\n",
    "visa = pd.DataFrame({'numbers_visa': [1, 2, 3], 'type': ['Business', 'Holiday', 'Study']})\n",
    "visa=spark.createDataFrame(visa)\n",
    "i94_df = i94_df.join(visa, i94_df.visa==visa.numbers_visa, how='left')\n",
    "i94_df.limit(5).toPandas()"
   ]
  },
  {
   "cell_type": "code",
   "execution_count": 135,
   "metadata": {
    "editable": true
   },
   "outputs": [
    {
     "data": {
      "text/html": [
       "<div>\n",
       "<style scoped>\n",
       "    .dataframe tbody tr th:only-of-type {\n",
       "        vertical-align: middle;\n",
       "    }\n",
       "\n",
       "    .dataframe tbody tr th {\n",
       "        vertical-align: top;\n",
       "    }\n",
       "\n",
       "    .dataframe thead th {\n",
       "        text-align: right;\n",
       "    }\n",
       "</style>\n",
       "<table border=\"1\" class=\"dataframe\">\n",
       "  <thead>\n",
       "    <tr style=\"text-align: right;\">\n",
       "      <th></th>\n",
       "      <th>id_immigration</th>\n",
       "      <th>origin</th>\n",
       "      <th>destination</th>\n",
       "      <th>code_city_destination</th>\n",
       "      <th>arrival_date</th>\n",
       "      <th>travel</th>\n",
       "      <th>addr</th>\n",
       "      <th>depdate</th>\n",
       "      <th>birth</th>\n",
       "      <th>biryear</th>\n",
       "      <th>gender</th>\n",
       "      <th>airline</th>\n",
       "      <th>admission_number</th>\n",
       "      <th>type</th>\n",
       "      <th>visatype</th>\n",
       "      <th>port_city</th>\n",
       "    </tr>\n",
       "  </thead>\n",
       "  <tbody>\n",
       "    <tr>\n",
       "      <th>0</th>\n",
       "      <td>5908962.0</td>\n",
       "      <td>INVALID: UNKNOWN</td>\n",
       "      <td>POLAND</td>\n",
       "      <td>SDP</td>\n",
       "      <td>2016-04-11</td>\n",
       "      <td>Rot reported</td>\n",
       "      <td>None</td>\n",
       "      <td>None</td>\n",
       "      <td>53</td>\n",
       "      <td>1963.0</td>\n",
       "      <td>M</td>\n",
       "      <td>None</td>\n",
       "      <td>4.355831e+10</td>\n",
       "      <td>Business</td>\n",
       "      <td>B1</td>\n",
       "      <td>SAN DIEGO</td>\n",
       "    </tr>\n",
       "    <tr>\n",
       "      <th>1</th>\n",
       "      <td>5419796.0</td>\n",
       "      <td>BULGARIA</td>\n",
       "      <td>BULGARIA</td>\n",
       "      <td>WPB</td>\n",
       "      <td>2016-04-18</td>\n",
       "      <td>Rot reported</td>\n",
       "      <td>FL</td>\n",
       "      <td>None</td>\n",
       "      <td>42</td>\n",
       "      <td>1974.0</td>\n",
       "      <td>M</td>\n",
       "      <td>None</td>\n",
       "      <td>1.356816e+10</td>\n",
       "      <td>Business</td>\n",
       "      <td>B1</td>\n",
       "      <td>WEST PALM BEACH</td>\n",
       "    </tr>\n",
       "    <tr>\n",
       "      <th>2</th>\n",
       "      <td>5934196.0</td>\n",
       "      <td>ITALY</td>\n",
       "      <td>ITALY</td>\n",
       "      <td>CHM</td>\n",
       "      <td>2016-04-16</td>\n",
       "      <td>Rot reported</td>\n",
       "      <td>NY</td>\n",
       "      <td>None</td>\n",
       "      <td>45</td>\n",
       "      <td>1971.0</td>\n",
       "      <td>M</td>\n",
       "      <td>None</td>\n",
       "      <td>5.782834e+10</td>\n",
       "      <td>Business</td>\n",
       "      <td>WB</td>\n",
       "      <td>CHAMPLAIN</td>\n",
       "    </tr>\n",
       "    <tr>\n",
       "      <th>3</th>\n",
       "      <td>6051481.0</td>\n",
       "      <td>ITALY</td>\n",
       "      <td>ITALY</td>\n",
       "      <td>CHM</td>\n",
       "      <td>2016-04-04</td>\n",
       "      <td>Rot reported</td>\n",
       "      <td>NY</td>\n",
       "      <td>None</td>\n",
       "      <td>39</td>\n",
       "      <td>1977.0</td>\n",
       "      <td>M</td>\n",
       "      <td>None</td>\n",
       "      <td>5.782834e+10</td>\n",
       "      <td>Business</td>\n",
       "      <td>WB</td>\n",
       "      <td>CHAMPLAIN</td>\n",
       "    </tr>\n",
       "    <tr>\n",
       "      <th>4</th>\n",
       "      <td>5936943.0</td>\n",
       "      <td>ITALY</td>\n",
       "      <td>ITALY</td>\n",
       "      <td>LNB</td>\n",
       "      <td>2016-04-22</td>\n",
       "      <td>Rot reported</td>\n",
       "      <td>None</td>\n",
       "      <td>None</td>\n",
       "      <td>45</td>\n",
       "      <td>1971.0</td>\n",
       "      <td>M</td>\n",
       "      <td>None</td>\n",
       "      <td>9.274616e+10</td>\n",
       "      <td>Business</td>\n",
       "      <td>WB</td>\n",
       "      <td>LONG BEACH</td>\n",
       "    </tr>\n",
       "  </tbody>\n",
       "</table>\n",
       "</div>"
      ],
      "text/plain": [
       "   id_immigration            origin destination code_city_destination  \\\n",
       "0       5908962.0  INVALID: UNKNOWN      POLAND                   SDP   \n",
       "1       5419796.0          BULGARIA    BULGARIA                   WPB   \n",
       "2       5934196.0             ITALY       ITALY                   CHM   \n",
       "3       6051481.0             ITALY       ITALY                   CHM   \n",
       "4       5936943.0             ITALY       ITALY                   LNB   \n",
       "\n",
       "  arrival_date        travel  addr depdate  birth  biryear gender airline  \\\n",
       "0   2016-04-11  Rot reported  None    None     53   1963.0      M    None   \n",
       "1   2016-04-18  Rot reported    FL    None     42   1974.0      M    None   \n",
       "2   2016-04-16  Rot reported    NY    None     45   1971.0      M    None   \n",
       "3   2016-04-04  Rot reported    NY    None     39   1977.0      M    None   \n",
       "4   2016-04-22  Rot reported  None    None     45   1971.0      M    None   \n",
       "\n",
       "   admission_number      type visatype        port_city  \n",
       "0      4.355831e+10  Business       B1        SAN DIEGO  \n",
       "1      1.356816e+10  Business       B1  WEST PALM BEACH  \n",
       "2      5.782834e+10  Business       WB        CHAMPLAIN  \n",
       "3      5.782834e+10  Business       WB        CHAMPLAIN  \n",
       "4      9.274616e+10  Business       WB       LONG BEACH  "
      ]
     },
     "execution_count": 135,
     "metadata": {},
     "output_type": "execute_result"
    }
   ],
   "source": [
    "# Immigration data will be assessed with the function \"immigration\" and option 5 \n",
    "i94_df = immigration(i94_df, 5)\n",
    "i94_df.limit(5).toPandas()"
   ]
  },
  {
   "cell_type": "code",
   "execution_count": 136,
   "metadata": {
    "editable": true
   },
   "outputs": [
    {
     "name": "stdout",
     "output_type": "stream",
     "text": [
      "root\n",
      " |-- id_immigration: float (nullable = true)\n",
      " |-- origin: string (nullable = true)\n",
      " |-- destination: string (nullable = true)\n",
      " |-- code_city_destination: string (nullable = true)\n",
      " |-- arrival_date: string (nullable = true)\n",
      " |-- travel: string (nullable = true)\n",
      " |-- addr: string (nullable = true)\n",
      " |-- depdate: string (nullable = true)\n",
      " |-- birth: integer (nullable = true)\n",
      " |-- biryear: float (nullable = true)\n",
      " |-- gender: string (nullable = true)\n",
      " |-- airline: string (nullable = true)\n",
      " |-- admission_number: double (nullable = true)\n",
      " |-- type: string (nullable = true)\n",
      " |-- visatype: string (nullable = true)\n",
      " |-- port_city: string (nullable = true)\n",
      "\n"
     ]
    }
   ],
   "source": [
    "i94_df.printSchema()"
   ]
  },
  {
   "cell_type": "markdown",
   "metadata": {
    "editable": true
   },
   "source": [
    "Finally, the immigration table, \"i94_df\" have the next column which will be explained below:\n",
    " \n",
    " - id_immigration (float): identification number\n",
    " \n",
    " - origin (string): Country of origin\n",
    " \n",
    " - destination (string): Destination country\n",
    " \n",
    " - code_city_destination (string): Destination code\n",
    " \n",
    " - arrival date (string): date of arrival in the country\n",
    " \n",
    " - travel (string): Specification if it was arrived via land, sea, air or unknown\n",
    " \n",
    " - addr (string): Arrival status code\n",
    " \n",
    " - depdate (string): End date of the trip\n",
    " \n",
    " - birth (float): Age\n",
    " \n",
    " - biryear (float): Year of birth\n",
    " \n",
    " - gender (string): gender F/M (female/male) \n",
    " \n",
    " - airline (string): acronym of the airline\n",
    " \n",
    " - admission number (double): admission number in the country\n",
    " \n",
    " - type (string): condition of travel, business, vacation or study\n",
    " \n",
    " - visatype (string): country-specific visa type code\n",
    " \n",
    " - port_city (string): port"
   ]
  },
  {
   "cell_type": "markdown",
   "metadata": {
    "editable": true
   },
   "source": [
    "## TEMPERATURE"
   ]
  },
  {
   "cell_type": "markdown",
   "metadata": {
    "editable": true
   },
   "source": [
    "Bellow, the temperature data will be read and they will be analyzed and assessed."
   ]
  },
  {
   "cell_type": "code",
   "execution_count": 137,
   "metadata": {
    "editable": true
   },
   "outputs": [],
   "source": [
    "temperature_fname = \"../../data2/GlobalLandTemperaturesByCity.csv\"\n",
    "temperature_df = spark.read.format(\"csv\").option(\"delimiter\", \",\").option(\"header\", \"true\").load(temperature_fname)"
   ]
  },
  {
   "cell_type": "code",
   "execution_count": 138,
   "metadata": {
    "editable": true
   },
   "outputs": [
    {
     "data": {
      "text/html": [
       "<div>\n",
       "<style scoped>\n",
       "    .dataframe tbody tr th:only-of-type {\n",
       "        vertical-align: middle;\n",
       "    }\n",
       "\n",
       "    .dataframe tbody tr th {\n",
       "        vertical-align: top;\n",
       "    }\n",
       "\n",
       "    .dataframe thead th {\n",
       "        text-align: right;\n",
       "    }\n",
       "</style>\n",
       "<table border=\"1\" class=\"dataframe\">\n",
       "  <thead>\n",
       "    <tr style=\"text-align: right;\">\n",
       "      <th></th>\n",
       "      <th>dt</th>\n",
       "      <th>AverageTemperature</th>\n",
       "      <th>AverageTemperatureUncertainty</th>\n",
       "      <th>City</th>\n",
       "      <th>Country</th>\n",
       "      <th>Latitude</th>\n",
       "      <th>Longitude</th>\n",
       "    </tr>\n",
       "  </thead>\n",
       "  <tbody>\n",
       "    <tr>\n",
       "      <th>0</th>\n",
       "      <td>1743-11-01</td>\n",
       "      <td>6.068</td>\n",
       "      <td>1.7369999999999999</td>\n",
       "      <td>Århus</td>\n",
       "      <td>Denmark</td>\n",
       "      <td>57.05N</td>\n",
       "      <td>10.33E</td>\n",
       "    </tr>\n",
       "    <tr>\n",
       "      <th>1</th>\n",
       "      <td>1743-12-01</td>\n",
       "      <td>None</td>\n",
       "      <td>None</td>\n",
       "      <td>Århus</td>\n",
       "      <td>Denmark</td>\n",
       "      <td>57.05N</td>\n",
       "      <td>10.33E</td>\n",
       "    </tr>\n",
       "    <tr>\n",
       "      <th>2</th>\n",
       "      <td>1744-01-01</td>\n",
       "      <td>None</td>\n",
       "      <td>None</td>\n",
       "      <td>Århus</td>\n",
       "      <td>Denmark</td>\n",
       "      <td>57.05N</td>\n",
       "      <td>10.33E</td>\n",
       "    </tr>\n",
       "    <tr>\n",
       "      <th>3</th>\n",
       "      <td>1744-02-01</td>\n",
       "      <td>None</td>\n",
       "      <td>None</td>\n",
       "      <td>Århus</td>\n",
       "      <td>Denmark</td>\n",
       "      <td>57.05N</td>\n",
       "      <td>10.33E</td>\n",
       "    </tr>\n",
       "    <tr>\n",
       "      <th>4</th>\n",
       "      <td>1744-03-01</td>\n",
       "      <td>None</td>\n",
       "      <td>None</td>\n",
       "      <td>Århus</td>\n",
       "      <td>Denmark</td>\n",
       "      <td>57.05N</td>\n",
       "      <td>10.33E</td>\n",
       "    </tr>\n",
       "  </tbody>\n",
       "</table>\n",
       "</div>"
      ],
      "text/plain": [
       "           dt AverageTemperature AverageTemperatureUncertainty   City  \\\n",
       "0  1743-11-01              6.068            1.7369999999999999  Århus   \n",
       "1  1743-12-01               None                          None  Århus   \n",
       "2  1744-01-01               None                          None  Århus   \n",
       "3  1744-02-01               None                          None  Århus   \n",
       "4  1744-03-01               None                          None  Århus   \n",
       "\n",
       "   Country Latitude Longitude  \n",
       "0  Denmark   57.05N    10.33E  \n",
       "1  Denmark   57.05N    10.33E  \n",
       "2  Denmark   57.05N    10.33E  \n",
       "3  Denmark   57.05N    10.33E  \n",
       "4  Denmark   57.05N    10.33E  "
      ]
     },
     "execution_count": 138,
     "metadata": {},
     "output_type": "execute_result"
    }
   ],
   "source": [
    "temperature_df.limit(5).toPandas()"
   ]
  },
  {
   "cell_type": "code",
   "execution_count": 139,
   "metadata": {
    "editable": true
   },
   "outputs": [
    {
     "name": "stdout",
     "output_type": "stream",
     "text": [
      "root\n",
      " |-- dt: string (nullable = true)\n",
      " |-- AverageTemperature: string (nullable = true)\n",
      " |-- AverageTemperatureUncertainty: string (nullable = true)\n",
      " |-- City: string (nullable = true)\n",
      " |-- Country: string (nullable = true)\n",
      " |-- Latitude: string (nullable = true)\n",
      " |-- Longitude: string (nullable = true)\n",
      "\n"
     ]
    }
   ],
   "source": [
    "temperature_df.printSchema()"
   ]
  },
  {
   "cell_type": "code",
   "execution_count": 140,
   "metadata": {
    "editable": true
   },
   "outputs": [],
   "source": [
    "# At this function will analyze the different cases relating to the temperature table called \"temperature_df\" \n",
    "# where the column will be renamed and the type of columns can also be changed with the instruction \"cast\"\n",
    "def temperature(table):\n",
    "    table = temperature_df.select(col('dt').alias('date').cast('timestamp'), col('AverageTemperature').alias('average_temperature').cast(\"float\"), \n",
    "                              col('AverageTemperatureUncertainty').alias('average_temperature_uncertainty').cast(\"float\"), \n",
    "                              col('City').alias('city'), col('Country').alias('country'), \n",
    "                              col('Latitude').alias('latitude'), col('Longitude').alias('longitude'))\n",
    "    return table"
   ]
  },
  {
   "cell_type": "code",
   "execution_count": 141,
   "metadata": {
    "editable": true
   },
   "outputs": [
    {
     "data": {
      "text/html": [
       "<div>\n",
       "<style scoped>\n",
       "    .dataframe tbody tr th:only-of-type {\n",
       "        vertical-align: middle;\n",
       "    }\n",
       "\n",
       "    .dataframe tbody tr th {\n",
       "        vertical-align: top;\n",
       "    }\n",
       "\n",
       "    .dataframe thead th {\n",
       "        text-align: right;\n",
       "    }\n",
       "</style>\n",
       "<table border=\"1\" class=\"dataframe\">\n",
       "  <thead>\n",
       "    <tr style=\"text-align: right;\">\n",
       "      <th></th>\n",
       "      <th>date</th>\n",
       "      <th>average_temperature</th>\n",
       "      <th>average_temperature_uncertainty</th>\n",
       "      <th>city</th>\n",
       "      <th>country</th>\n",
       "      <th>latitude</th>\n",
       "      <th>longitude</th>\n",
       "    </tr>\n",
       "  </thead>\n",
       "  <tbody>\n",
       "    <tr>\n",
       "      <th>0</th>\n",
       "      <td>1743-11-01</td>\n",
       "      <td>6.068</td>\n",
       "      <td>1.737</td>\n",
       "      <td>Århus</td>\n",
       "      <td>Denmark</td>\n",
       "      <td>57.05N</td>\n",
       "      <td>10.33E</td>\n",
       "    </tr>\n",
       "    <tr>\n",
       "      <th>1</th>\n",
       "      <td>1743-12-01</td>\n",
       "      <td>NaN</td>\n",
       "      <td>NaN</td>\n",
       "      <td>Århus</td>\n",
       "      <td>Denmark</td>\n",
       "      <td>57.05N</td>\n",
       "      <td>10.33E</td>\n",
       "    </tr>\n",
       "    <tr>\n",
       "      <th>2</th>\n",
       "      <td>1744-01-01</td>\n",
       "      <td>NaN</td>\n",
       "      <td>NaN</td>\n",
       "      <td>Århus</td>\n",
       "      <td>Denmark</td>\n",
       "      <td>57.05N</td>\n",
       "      <td>10.33E</td>\n",
       "    </tr>\n",
       "    <tr>\n",
       "      <th>3</th>\n",
       "      <td>1744-02-01</td>\n",
       "      <td>NaN</td>\n",
       "      <td>NaN</td>\n",
       "      <td>Århus</td>\n",
       "      <td>Denmark</td>\n",
       "      <td>57.05N</td>\n",
       "      <td>10.33E</td>\n",
       "    </tr>\n",
       "    <tr>\n",
       "      <th>4</th>\n",
       "      <td>1744-03-01</td>\n",
       "      <td>NaN</td>\n",
       "      <td>NaN</td>\n",
       "      <td>Århus</td>\n",
       "      <td>Denmark</td>\n",
       "      <td>57.05N</td>\n",
       "      <td>10.33E</td>\n",
       "    </tr>\n",
       "  </tbody>\n",
       "</table>\n",
       "</div>"
      ],
      "text/plain": [
       "        date  average_temperature  average_temperature_uncertainty   city  \\\n",
       "0 1743-11-01                6.068                            1.737  Århus   \n",
       "1 1743-12-01                  NaN                              NaN  Århus   \n",
       "2 1744-01-01                  NaN                              NaN  Århus   \n",
       "3 1744-02-01                  NaN                              NaN  Århus   \n",
       "4 1744-03-01                  NaN                              NaN  Århus   \n",
       "\n",
       "   country latitude longitude  \n",
       "0  Denmark   57.05N    10.33E  \n",
       "1  Denmark   57.05N    10.33E  \n",
       "2  Denmark   57.05N    10.33E  \n",
       "3  Denmark   57.05N    10.33E  \n",
       "4  Denmark   57.05N    10.33E  "
      ]
     },
     "execution_count": 141,
     "metadata": {},
     "output_type": "execute_result"
    }
   ],
   "source": [
    "# temperature data will be assessed with the function \"temperature\"\n",
    "temperature_df = temperature(temperature_df)\n",
    "temperature_df.limit(5).toPandas()"
   ]
  },
  {
   "cell_type": "code",
   "execution_count": 142,
   "metadata": {
    "editable": true
   },
   "outputs": [
    {
     "data": {
      "text/plain": [
       "8599212"
      ]
     },
     "execution_count": 142,
     "metadata": {},
     "output_type": "execute_result"
    }
   ],
   "source": [
    "temperature_df.count()"
   ]
  },
  {
   "cell_type": "code",
   "execution_count": 143,
   "metadata": {
    "editable": true
   },
   "outputs": [],
   "source": [
    "# We are going to analyze the data of temperatura relate with United States and we compared the number of rows before and after\n",
    "temperature_df = temperature_df[temperature_df['country'] == 'United States']"
   ]
  },
  {
   "cell_type": "code",
   "execution_count": 144,
   "metadata": {
    "editable": true
   },
   "outputs": [
    {
     "data": {
      "text/plain": [
       "687289"
      ]
     },
     "execution_count": 144,
     "metadata": {},
     "output_type": "execute_result"
    }
   ],
   "source": [
    "temperature_df.count()"
   ]
  },
  {
   "cell_type": "code",
   "execution_count": 145,
   "metadata": {
    "editable": true
   },
   "outputs": [
    {
     "data": {
      "text/html": [
       "<div>\n",
       "<style scoped>\n",
       "    .dataframe tbody tr th:only-of-type {\n",
       "        vertical-align: middle;\n",
       "    }\n",
       "\n",
       "    .dataframe tbody tr th {\n",
       "        vertical-align: top;\n",
       "    }\n",
       "\n",
       "    .dataframe thead th {\n",
       "        text-align: right;\n",
       "    }\n",
       "</style>\n",
       "<table border=\"1\" class=\"dataframe\">\n",
       "  <thead>\n",
       "    <tr style=\"text-align: right;\">\n",
       "      <th></th>\n",
       "      <th>date</th>\n",
       "      <th>average_temperature</th>\n",
       "      <th>average_temperature_uncertainty</th>\n",
       "      <th>city</th>\n",
       "      <th>country</th>\n",
       "      <th>latitude</th>\n",
       "      <th>longitude</th>\n",
       "    </tr>\n",
       "  </thead>\n",
       "  <tbody>\n",
       "    <tr>\n",
       "      <th>0</th>\n",
       "      <td>1820-01-01</td>\n",
       "      <td>2.101</td>\n",
       "      <td>3.217</td>\n",
       "      <td>Abilene</td>\n",
       "      <td>United States</td>\n",
       "      <td>32.95N</td>\n",
       "      <td>100.53W</td>\n",
       "    </tr>\n",
       "    <tr>\n",
       "      <th>1</th>\n",
       "      <td>1820-02-01</td>\n",
       "      <td>6.926</td>\n",
       "      <td>2.853</td>\n",
       "      <td>Abilene</td>\n",
       "      <td>United States</td>\n",
       "      <td>32.95N</td>\n",
       "      <td>100.53W</td>\n",
       "    </tr>\n",
       "    <tr>\n",
       "      <th>2</th>\n",
       "      <td>1820-03-01</td>\n",
       "      <td>10.767</td>\n",
       "      <td>2.395</td>\n",
       "      <td>Abilene</td>\n",
       "      <td>United States</td>\n",
       "      <td>32.95N</td>\n",
       "      <td>100.53W</td>\n",
       "    </tr>\n",
       "    <tr>\n",
       "      <th>3</th>\n",
       "      <td>1820-04-01</td>\n",
       "      <td>17.989</td>\n",
       "      <td>2.202</td>\n",
       "      <td>Abilene</td>\n",
       "      <td>United States</td>\n",
       "      <td>32.95N</td>\n",
       "      <td>100.53W</td>\n",
       "    </tr>\n",
       "    <tr>\n",
       "      <th>4</th>\n",
       "      <td>1820-05-01</td>\n",
       "      <td>21.809</td>\n",
       "      <td>2.036</td>\n",
       "      <td>Abilene</td>\n",
       "      <td>United States</td>\n",
       "      <td>32.95N</td>\n",
       "      <td>100.53W</td>\n",
       "    </tr>\n",
       "  </tbody>\n",
       "</table>\n",
       "</div>"
      ],
      "text/plain": [
       "        date  average_temperature  average_temperature_uncertainty     city  \\\n",
       "0 1820-01-01                2.101                            3.217  Abilene   \n",
       "1 1820-02-01                6.926                            2.853  Abilene   \n",
       "2 1820-03-01               10.767                            2.395  Abilene   \n",
       "3 1820-04-01               17.989                            2.202  Abilene   \n",
       "4 1820-05-01               21.809                            2.036  Abilene   \n",
       "\n",
       "         country latitude longitude  \n",
       "0  United States   32.95N   100.53W  \n",
       "1  United States   32.95N   100.53W  \n",
       "2  United States   32.95N   100.53W  \n",
       "3  United States   32.95N   100.53W  \n",
       "4  United States   32.95N   100.53W  "
      ]
     },
     "execution_count": 145,
     "metadata": {},
     "output_type": "execute_result"
    }
   ],
   "source": [
    "temperature_df.limit(5).toPandas()"
   ]
  },
  {
   "cell_type": "code",
   "execution_count": 148,
   "metadata": {
    "editable": true
   },
   "outputs": [],
   "source": [
    "# With the instruction \"dropna\", we are going to remove every row that has a null\n",
    "# With the instruction \"dropDuplicates\" is removed the columns that are repeated\n",
    "temperature_df = temperature_df.dropna()\n",
    "temperature_df = temperature_df.dropDuplicates()"
   ]
  },
  {
   "cell_type": "code",
   "execution_count": 149,
   "metadata": {
    "editable": true
   },
   "outputs": [
    {
     "data": {
      "text/plain": [
       "661524"
      ]
     },
     "execution_count": 149,
     "metadata": {},
     "output_type": "execute_result"
    }
   ],
   "source": [
    "temperature_df.count()"
   ]
  },
  {
   "cell_type": "code",
   "execution_count": 150,
   "metadata": {
    "editable": true
   },
   "outputs": [
    {
     "name": "stdout",
     "output_type": "stream",
     "text": [
      "root\n",
      " |-- date: timestamp (nullable = true)\n",
      " |-- average_temperature: float (nullable = true)\n",
      " |-- average_temperature_uncertainty: float (nullable = true)\n",
      " |-- city: string (nullable = true)\n",
      " |-- country: string (nullable = true)\n",
      " |-- latitude: string (nullable = true)\n",
      " |-- longitude: string (nullable = true)\n",
      "\n"
     ]
    }
   ],
   "source": [
    "temperature_df.printSchema()"
   ]
  },
  {
   "cell_type": "code",
   "execution_count": 151,
   "metadata": {
    "editable": true
   },
   "outputs": [],
   "source": [
    "# We discard dates prior to the 20th century\n",
    "temperature_df = temperature_df[(temperature_df['date'] > '1900-01-01') & (temperature_df['date'] < '2020-01-01')]"
   ]
  },
  {
   "cell_type": "code",
   "execution_count": 152,
   "metadata": {
    "editable": true
   },
   "outputs": [
    {
     "data": {
      "text/plain": [
       "350804"
      ]
     },
     "execution_count": 152,
     "metadata": {},
     "output_type": "execute_result"
    }
   ],
   "source": [
    "# The number of rows is counted again\n",
    "temperature_df.count()"
   ]
  },
  {
   "cell_type": "code",
   "execution_count": 153,
   "metadata": {
    "editable": true
   },
   "outputs": [
    {
     "data": {
      "text/html": [
       "<div>\n",
       "<style scoped>\n",
       "    .dataframe tbody tr th:only-of-type {\n",
       "        vertical-align: middle;\n",
       "    }\n",
       "\n",
       "    .dataframe tbody tr th {\n",
       "        vertical-align: top;\n",
       "    }\n",
       "\n",
       "    .dataframe thead th {\n",
       "        text-align: right;\n",
       "    }\n",
       "</style>\n",
       "<table border=\"1\" class=\"dataframe\">\n",
       "  <thead>\n",
       "    <tr style=\"text-align: right;\">\n",
       "      <th></th>\n",
       "      <th>date</th>\n",
       "      <th>average_temperature</th>\n",
       "      <th>average_temperature_uncertainty</th>\n",
       "      <th>city</th>\n",
       "      <th>country</th>\n",
       "      <th>latitude</th>\n",
       "      <th>longitude</th>\n",
       "    </tr>\n",
       "  </thead>\n",
       "  <tbody>\n",
       "    <tr>\n",
       "      <th>0</th>\n",
       "      <td>1932-01-01</td>\n",
       "      <td>5.792000</td>\n",
       "      <td>0.512</td>\n",
       "      <td>Abilene</td>\n",
       "      <td>United States</td>\n",
       "      <td>32.95N</td>\n",
       "      <td>100.53W</td>\n",
       "    </tr>\n",
       "    <tr>\n",
       "      <th>1</th>\n",
       "      <td>1942-07-01</td>\n",
       "      <td>27.308001</td>\n",
       "      <td>0.265</td>\n",
       "      <td>Abilene</td>\n",
       "      <td>United States</td>\n",
       "      <td>32.95N</td>\n",
       "      <td>100.53W</td>\n",
       "    </tr>\n",
       "    <tr>\n",
       "      <th>2</th>\n",
       "      <td>1967-01-01</td>\n",
       "      <td>7.052000</td>\n",
       "      <td>0.276</td>\n",
       "      <td>Abilene</td>\n",
       "      <td>United States</td>\n",
       "      <td>32.95N</td>\n",
       "      <td>100.53W</td>\n",
       "    </tr>\n",
       "    <tr>\n",
       "      <th>3</th>\n",
       "      <td>1987-09-01</td>\n",
       "      <td>22.764000</td>\n",
       "      <td>0.338</td>\n",
       "      <td>Abilene</td>\n",
       "      <td>United States</td>\n",
       "      <td>32.95N</td>\n",
       "      <td>100.53W</td>\n",
       "    </tr>\n",
       "    <tr>\n",
       "      <th>4</th>\n",
       "      <td>1990-03-01</td>\n",
       "      <td>12.222000</td>\n",
       "      <td>0.102</td>\n",
       "      <td>Abilene</td>\n",
       "      <td>United States</td>\n",
       "      <td>32.95N</td>\n",
       "      <td>100.53W</td>\n",
       "    </tr>\n",
       "  </tbody>\n",
       "</table>\n",
       "</div>"
      ],
      "text/plain": [
       "        date  average_temperature  average_temperature_uncertainty     city  \\\n",
       "0 1932-01-01             5.792000                            0.512  Abilene   \n",
       "1 1942-07-01            27.308001                            0.265  Abilene   \n",
       "2 1967-01-01             7.052000                            0.276  Abilene   \n",
       "3 1987-09-01            22.764000                            0.338  Abilene   \n",
       "4 1990-03-01            12.222000                            0.102  Abilene   \n",
       "\n",
       "         country latitude longitude  \n",
       "0  United States   32.95N   100.53W  \n",
       "1  United States   32.95N   100.53W  \n",
       "2  United States   32.95N   100.53W  \n",
       "3  United States   32.95N   100.53W  \n",
       "4  United States   32.95N   100.53W  "
      ]
     },
     "execution_count": 153,
     "metadata": {},
     "output_type": "execute_result"
    }
   ],
   "source": [
    "temperature_df.limit(5).toPandas()"
   ]
  },
  {
   "cell_type": "code",
   "execution_count": 154,
   "metadata": {
    "editable": true
   },
   "outputs": [],
   "source": [
    "# With this function the temperature columns will be rounded to two decimal places\n",
    "@udf(StringType())\n",
    "def round_two_decimal(x):\n",
    "    if x:\n",
    "        return round(x, 2)\n",
    "    return None"
   ]
  },
  {
   "cell_type": "code",
   "execution_count": 155,
   "metadata": {
    "editable": true
   },
   "outputs": [
    {
     "data": {
      "text/html": [
       "<div>\n",
       "<style scoped>\n",
       "    .dataframe tbody tr th:only-of-type {\n",
       "        vertical-align: middle;\n",
       "    }\n",
       "\n",
       "    .dataframe tbody tr th {\n",
       "        vertical-align: top;\n",
       "    }\n",
       "\n",
       "    .dataframe thead th {\n",
       "        text-align: right;\n",
       "    }\n",
       "</style>\n",
       "<table border=\"1\" class=\"dataframe\">\n",
       "  <thead>\n",
       "    <tr style=\"text-align: right;\">\n",
       "      <th></th>\n",
       "      <th>date</th>\n",
       "      <th>average_temperature</th>\n",
       "      <th>average_temperature_uncertainty</th>\n",
       "      <th>city</th>\n",
       "      <th>country</th>\n",
       "      <th>latitude</th>\n",
       "      <th>longitude</th>\n",
       "    </tr>\n",
       "  </thead>\n",
       "  <tbody>\n",
       "    <tr>\n",
       "      <th>0</th>\n",
       "      <td>1932-01-01</td>\n",
       "      <td>5.79</td>\n",
       "      <td>0.51</td>\n",
       "      <td>Abilene</td>\n",
       "      <td>United States</td>\n",
       "      <td>32.95N</td>\n",
       "      <td>100.53W</td>\n",
       "    </tr>\n",
       "    <tr>\n",
       "      <th>1</th>\n",
       "      <td>1942-07-01</td>\n",
       "      <td>27.31</td>\n",
       "      <td>0.26</td>\n",
       "      <td>Abilene</td>\n",
       "      <td>United States</td>\n",
       "      <td>32.95N</td>\n",
       "      <td>100.53W</td>\n",
       "    </tr>\n",
       "    <tr>\n",
       "      <th>2</th>\n",
       "      <td>1967-01-01</td>\n",
       "      <td>7.05</td>\n",
       "      <td>0.28</td>\n",
       "      <td>Abilene</td>\n",
       "      <td>United States</td>\n",
       "      <td>32.95N</td>\n",
       "      <td>100.53W</td>\n",
       "    </tr>\n",
       "    <tr>\n",
       "      <th>3</th>\n",
       "      <td>1987-09-01</td>\n",
       "      <td>22.76</td>\n",
       "      <td>0.34</td>\n",
       "      <td>Abilene</td>\n",
       "      <td>United States</td>\n",
       "      <td>32.95N</td>\n",
       "      <td>100.53W</td>\n",
       "    </tr>\n",
       "    <tr>\n",
       "      <th>4</th>\n",
       "      <td>1990-03-01</td>\n",
       "      <td>12.22</td>\n",
       "      <td>0.1</td>\n",
       "      <td>Abilene</td>\n",
       "      <td>United States</td>\n",
       "      <td>32.95N</td>\n",
       "      <td>100.53W</td>\n",
       "    </tr>\n",
       "  </tbody>\n",
       "</table>\n",
       "</div>"
      ],
      "text/plain": [
       "        date average_temperature average_temperature_uncertainty     city  \\\n",
       "0 1932-01-01                5.79                            0.51  Abilene   \n",
       "1 1942-07-01               27.31                            0.26  Abilene   \n",
       "2 1967-01-01                7.05                            0.28  Abilene   \n",
       "3 1987-09-01               22.76                            0.34  Abilene   \n",
       "4 1990-03-01               12.22                             0.1  Abilene   \n",
       "\n",
       "         country latitude longitude  \n",
       "0  United States   32.95N   100.53W  \n",
       "1  United States   32.95N   100.53W  \n",
       "2  United States   32.95N   100.53W  \n",
       "3  United States   32.95N   100.53W  \n",
       "4  United States   32.95N   100.53W  "
      ]
     },
     "execution_count": 155,
     "metadata": {},
     "output_type": "execute_result"
    }
   ],
   "source": [
    "# With this function \"round_two_decimal\" is rounded the columns \"average_temperature\" and \"average_temperature_uncertainty\"\n",
    "temperature_df = temperature_df.withColumn(\"average_temperature\", round_two_decimal(temperature_df.average_temperature))\n",
    "temperature_df = temperature_df.withColumn(\"average_temperature_uncertainty\", \n",
    "                                           round_two_decimal(temperature_df.average_temperature_uncertainty))\n",
    "temperature_df.limit(5).toPandas()"
   ]
  },
  {
   "cell_type": "markdown",
   "metadata": {
    "editable": true
   },
   "source": [
    "Finally, the temperature table, \"temperature_df\" have the next column which will be explained below:\n",
    " \n",
    " - date (timestamp): Date of the moment that this temperature was obtained\n",
    "    \n",
    " - average_temperature (float): average temperature\n",
    "   \n",
    " - average_temperature_uncertainty (float): temperature uncertainty\n",
    "    \n",
    " - city (string): name of the city\n",
    "    \n",
    " - country (string): Country of the data\n",
    "    \n",
    " - latitude (string): latitude data\n",
    "    \n",
    " - longitude (string): longitude data"
   ]
  },
  {
   "cell_type": "markdown",
   "metadata": {
    "editable": true
   },
   "source": [
    "## DEMOGRAPHIC"
   ]
  },
  {
   "cell_type": "markdown",
   "metadata": {
    "editable": true
   },
   "source": [
    "Bellow, the demographic data will be read and they will be analyzed and assessed."
   ]
  },
  {
   "cell_type": "code",
   "execution_count": 156,
   "metadata": {
    "editable": true
   },
   "outputs": [],
   "source": [
    "demo_fname = \"us-cities-demographics.csv\"\n",
    "demo_df = spark.read.format(\"csv\").option(\"delimiter\", \";\").option(\"header\", \"true\").load(demo_fname)"
   ]
  },
  {
   "cell_type": "code",
   "execution_count": 157,
   "metadata": {
    "editable": true
   },
   "outputs": [
    {
     "data": {
      "text/html": [
       "<div>\n",
       "<style scoped>\n",
       "    .dataframe tbody tr th:only-of-type {\n",
       "        vertical-align: middle;\n",
       "    }\n",
       "\n",
       "    .dataframe tbody tr th {\n",
       "        vertical-align: top;\n",
       "    }\n",
       "\n",
       "    .dataframe thead th {\n",
       "        text-align: right;\n",
       "    }\n",
       "</style>\n",
       "<table border=\"1\" class=\"dataframe\">\n",
       "  <thead>\n",
       "    <tr style=\"text-align: right;\">\n",
       "      <th></th>\n",
       "      <th>City</th>\n",
       "      <th>State</th>\n",
       "      <th>Median Age</th>\n",
       "      <th>Male Population</th>\n",
       "      <th>Female Population</th>\n",
       "      <th>Total Population</th>\n",
       "      <th>Number of Veterans</th>\n",
       "      <th>Foreign-born</th>\n",
       "      <th>Average Household Size</th>\n",
       "      <th>State Code</th>\n",
       "      <th>Race</th>\n",
       "      <th>Count</th>\n",
       "    </tr>\n",
       "  </thead>\n",
       "  <tbody>\n",
       "    <tr>\n",
       "      <th>0</th>\n",
       "      <td>Silver Spring</td>\n",
       "      <td>Maryland</td>\n",
       "      <td>33.8</td>\n",
       "      <td>40601</td>\n",
       "      <td>41862</td>\n",
       "      <td>82463</td>\n",
       "      <td>1562</td>\n",
       "      <td>30908</td>\n",
       "      <td>2.6</td>\n",
       "      <td>MD</td>\n",
       "      <td>Hispanic or Latino</td>\n",
       "      <td>25924</td>\n",
       "    </tr>\n",
       "    <tr>\n",
       "      <th>1</th>\n",
       "      <td>Quincy</td>\n",
       "      <td>Massachusetts</td>\n",
       "      <td>41.0</td>\n",
       "      <td>44129</td>\n",
       "      <td>49500</td>\n",
       "      <td>93629</td>\n",
       "      <td>4147</td>\n",
       "      <td>32935</td>\n",
       "      <td>2.39</td>\n",
       "      <td>MA</td>\n",
       "      <td>White</td>\n",
       "      <td>58723</td>\n",
       "    </tr>\n",
       "    <tr>\n",
       "      <th>2</th>\n",
       "      <td>Hoover</td>\n",
       "      <td>Alabama</td>\n",
       "      <td>38.5</td>\n",
       "      <td>38040</td>\n",
       "      <td>46799</td>\n",
       "      <td>84839</td>\n",
       "      <td>4819</td>\n",
       "      <td>8229</td>\n",
       "      <td>2.58</td>\n",
       "      <td>AL</td>\n",
       "      <td>Asian</td>\n",
       "      <td>4759</td>\n",
       "    </tr>\n",
       "    <tr>\n",
       "      <th>3</th>\n",
       "      <td>Rancho Cucamonga</td>\n",
       "      <td>California</td>\n",
       "      <td>34.5</td>\n",
       "      <td>88127</td>\n",
       "      <td>87105</td>\n",
       "      <td>175232</td>\n",
       "      <td>5821</td>\n",
       "      <td>33878</td>\n",
       "      <td>3.18</td>\n",
       "      <td>CA</td>\n",
       "      <td>Black or African-American</td>\n",
       "      <td>24437</td>\n",
       "    </tr>\n",
       "    <tr>\n",
       "      <th>4</th>\n",
       "      <td>Newark</td>\n",
       "      <td>New Jersey</td>\n",
       "      <td>34.6</td>\n",
       "      <td>138040</td>\n",
       "      <td>143873</td>\n",
       "      <td>281913</td>\n",
       "      <td>5829</td>\n",
       "      <td>86253</td>\n",
       "      <td>2.73</td>\n",
       "      <td>NJ</td>\n",
       "      <td>White</td>\n",
       "      <td>76402</td>\n",
       "    </tr>\n",
       "  </tbody>\n",
       "</table>\n",
       "</div>"
      ],
      "text/plain": [
       "               City          State Median Age Male Population  \\\n",
       "0     Silver Spring       Maryland       33.8           40601   \n",
       "1            Quincy  Massachusetts       41.0           44129   \n",
       "2            Hoover        Alabama       38.5           38040   \n",
       "3  Rancho Cucamonga     California       34.5           88127   \n",
       "4            Newark     New Jersey       34.6          138040   \n",
       "\n",
       "  Female Population Total Population Number of Veterans Foreign-born  \\\n",
       "0             41862            82463               1562        30908   \n",
       "1             49500            93629               4147        32935   \n",
       "2             46799            84839               4819         8229   \n",
       "3             87105           175232               5821        33878   \n",
       "4            143873           281913               5829        86253   \n",
       "\n",
       "  Average Household Size State Code                       Race  Count  \n",
       "0                    2.6         MD         Hispanic or Latino  25924  \n",
       "1                   2.39         MA                      White  58723  \n",
       "2                   2.58         AL                      Asian   4759  \n",
       "3                   3.18         CA  Black or African-American  24437  \n",
       "4                   2.73         NJ                      White  76402  "
      ]
     },
     "execution_count": 157,
     "metadata": {},
     "output_type": "execute_result"
    }
   ],
   "source": [
    "demo_df.limit(5).toPandas()"
   ]
  },
  {
   "cell_type": "code",
   "execution_count": 158,
   "metadata": {
    "editable": true
   },
   "outputs": [
    {
     "name": "stdout",
     "output_type": "stream",
     "text": [
      "root\n",
      " |-- City: string (nullable = true)\n",
      " |-- State: string (nullable = true)\n",
      " |-- Median Age: string (nullable = true)\n",
      " |-- Male Population: string (nullable = true)\n",
      " |-- Female Population: string (nullable = true)\n",
      " |-- Total Population: string (nullable = true)\n",
      " |-- Number of Veterans: string (nullable = true)\n",
      " |-- Foreign-born: string (nullable = true)\n",
      " |-- Average Household Size: string (nullable = true)\n",
      " |-- State Code: string (nullable = true)\n",
      " |-- Race: string (nullable = true)\n",
      " |-- Count: string (nullable = true)\n",
      "\n"
     ]
    }
   ],
   "source": [
    "demo_df.printSchema()"
   ]
  },
  {
   "cell_type": "code",
   "execution_count": 159,
   "metadata": {
    "editable": true
   },
   "outputs": [],
   "source": [
    "# At this function will analyze the different cases relating to the temperature table called \"demo_df\" \n",
    "# where the column will be renamed and the type of columns can also be changed with the instruction \"cast\"\n",
    "def demographics(table):\n",
    "    table = table.select(col('City').alias('city'), col('State').alias('state'), col('Median Age').alias('median_age').cast(\"float\"), \n",
    "                         col('Male Population').alias('male_population').cast(\"float\"), \n",
    "                         col('Female Population').alias('female_population').cast(\"float\"), \n",
    "                         col('Total Population').alias('total_population').cast(\"float\"), \n",
    "                         col('Number of Veterans').alias('num_veterans').cast(\"float\"), \n",
    "                         col('Foreign-born').alias('foreign_born').cast(\"float\"), \n",
    "                         col('Average Household Size').alias('average_hhs').cast(\"float\"), \n",
    "                         col('State Code').alias('state_code'), col('Race').alias('race'), col('Count').alias('count').cast(\"float\"))\n",
    "    return table"
   ]
  },
  {
   "cell_type": "code",
   "execution_count": 160,
   "metadata": {
    "editable": true
   },
   "outputs": [
    {
     "data": {
      "text/html": [
       "<div>\n",
       "<style scoped>\n",
       "    .dataframe tbody tr th:only-of-type {\n",
       "        vertical-align: middle;\n",
       "    }\n",
       "\n",
       "    .dataframe tbody tr th {\n",
       "        vertical-align: top;\n",
       "    }\n",
       "\n",
       "    .dataframe thead th {\n",
       "        text-align: right;\n",
       "    }\n",
       "</style>\n",
       "<table border=\"1\" class=\"dataframe\">\n",
       "  <thead>\n",
       "    <tr style=\"text-align: right;\">\n",
       "      <th></th>\n",
       "      <th>city</th>\n",
       "      <th>state</th>\n",
       "      <th>median_age</th>\n",
       "      <th>male_population</th>\n",
       "      <th>female_population</th>\n",
       "      <th>total_population</th>\n",
       "      <th>num_veterans</th>\n",
       "      <th>foreign_born</th>\n",
       "      <th>average_hhs</th>\n",
       "      <th>state_code</th>\n",
       "      <th>race</th>\n",
       "      <th>count</th>\n",
       "    </tr>\n",
       "  </thead>\n",
       "  <tbody>\n",
       "    <tr>\n",
       "      <th>0</th>\n",
       "      <td>Silver Spring</td>\n",
       "      <td>Maryland</td>\n",
       "      <td>33.799999</td>\n",
       "      <td>40601.0</td>\n",
       "      <td>41862.0</td>\n",
       "      <td>82463.0</td>\n",
       "      <td>1562.0</td>\n",
       "      <td>30908.0</td>\n",
       "      <td>2.60</td>\n",
       "      <td>MD</td>\n",
       "      <td>Hispanic or Latino</td>\n",
       "      <td>25924.0</td>\n",
       "    </tr>\n",
       "    <tr>\n",
       "      <th>1</th>\n",
       "      <td>Quincy</td>\n",
       "      <td>Massachusetts</td>\n",
       "      <td>41.000000</td>\n",
       "      <td>44129.0</td>\n",
       "      <td>49500.0</td>\n",
       "      <td>93629.0</td>\n",
       "      <td>4147.0</td>\n",
       "      <td>32935.0</td>\n",
       "      <td>2.39</td>\n",
       "      <td>MA</td>\n",
       "      <td>White</td>\n",
       "      <td>58723.0</td>\n",
       "    </tr>\n",
       "    <tr>\n",
       "      <th>2</th>\n",
       "      <td>Hoover</td>\n",
       "      <td>Alabama</td>\n",
       "      <td>38.500000</td>\n",
       "      <td>38040.0</td>\n",
       "      <td>46799.0</td>\n",
       "      <td>84839.0</td>\n",
       "      <td>4819.0</td>\n",
       "      <td>8229.0</td>\n",
       "      <td>2.58</td>\n",
       "      <td>AL</td>\n",
       "      <td>Asian</td>\n",
       "      <td>4759.0</td>\n",
       "    </tr>\n",
       "    <tr>\n",
       "      <th>3</th>\n",
       "      <td>Rancho Cucamonga</td>\n",
       "      <td>California</td>\n",
       "      <td>34.500000</td>\n",
       "      <td>88127.0</td>\n",
       "      <td>87105.0</td>\n",
       "      <td>175232.0</td>\n",
       "      <td>5821.0</td>\n",
       "      <td>33878.0</td>\n",
       "      <td>3.18</td>\n",
       "      <td>CA</td>\n",
       "      <td>Black or African-American</td>\n",
       "      <td>24437.0</td>\n",
       "    </tr>\n",
       "    <tr>\n",
       "      <th>4</th>\n",
       "      <td>Newark</td>\n",
       "      <td>New Jersey</td>\n",
       "      <td>34.599998</td>\n",
       "      <td>138040.0</td>\n",
       "      <td>143873.0</td>\n",
       "      <td>281913.0</td>\n",
       "      <td>5829.0</td>\n",
       "      <td>86253.0</td>\n",
       "      <td>2.73</td>\n",
       "      <td>NJ</td>\n",
       "      <td>White</td>\n",
       "      <td>76402.0</td>\n",
       "    </tr>\n",
       "  </tbody>\n",
       "</table>\n",
       "</div>"
      ],
      "text/plain": [
       "               city          state  median_age  male_population  \\\n",
       "0     Silver Spring       Maryland   33.799999          40601.0   \n",
       "1            Quincy  Massachusetts   41.000000          44129.0   \n",
       "2            Hoover        Alabama   38.500000          38040.0   \n",
       "3  Rancho Cucamonga     California   34.500000          88127.0   \n",
       "4            Newark     New Jersey   34.599998         138040.0   \n",
       "\n",
       "   female_population  total_population  num_veterans  foreign_born  \\\n",
       "0            41862.0           82463.0        1562.0       30908.0   \n",
       "1            49500.0           93629.0        4147.0       32935.0   \n",
       "2            46799.0           84839.0        4819.0        8229.0   \n",
       "3            87105.0          175232.0        5821.0       33878.0   \n",
       "4           143873.0          281913.0        5829.0       86253.0   \n",
       "\n",
       "   average_hhs state_code                       race    count  \n",
       "0         2.60         MD         Hispanic or Latino  25924.0  \n",
       "1         2.39         MA                      White  58723.0  \n",
       "2         2.58         AL                      Asian   4759.0  \n",
       "3         3.18         CA  Black or African-American  24437.0  \n",
       "4         2.73         NJ                      White  76402.0  "
      ]
     },
     "execution_count": 160,
     "metadata": {},
     "output_type": "execute_result"
    }
   ],
   "source": [
    "# temperature data will be assessed with the function \"demographics\"\n",
    "demo_df = demographics(demo_df)\n",
    "demo_df.limit(5).toPandas()"
   ]
  },
  {
   "cell_type": "code",
   "execution_count": 161,
   "metadata": {
    "editable": true
   },
   "outputs": [
    {
     "data": {
      "text/html": [
       "<div>\n",
       "<style scoped>\n",
       "    .dataframe tbody tr th:only-of-type {\n",
       "        vertical-align: middle;\n",
       "    }\n",
       "\n",
       "    .dataframe tbody tr th {\n",
       "        vertical-align: top;\n",
       "    }\n",
       "\n",
       "    .dataframe thead th {\n",
       "        text-align: right;\n",
       "    }\n",
       "</style>\n",
       "<table border=\"1\" class=\"dataframe\">\n",
       "  <thead>\n",
       "    <tr style=\"text-align: right;\">\n",
       "      <th></th>\n",
       "      <th>city</th>\n",
       "      <th>state</th>\n",
       "      <th>median_age</th>\n",
       "      <th>male_population</th>\n",
       "      <th>female_population</th>\n",
       "      <th>total_population</th>\n",
       "      <th>num_veterans</th>\n",
       "      <th>foreign_born</th>\n",
       "      <th>average_hhs</th>\n",
       "      <th>state_code</th>\n",
       "      <th>race</th>\n",
       "      <th>count</th>\n",
       "    </tr>\n",
       "  </thead>\n",
       "  <tbody>\n",
       "    <tr>\n",
       "      <th>0</th>\n",
       "      <td>Silver Spring</td>\n",
       "      <td>Maryland</td>\n",
       "      <td>33.8</td>\n",
       "      <td>40601.0</td>\n",
       "      <td>41862.0</td>\n",
       "      <td>82463.0</td>\n",
       "      <td>1562.0</td>\n",
       "      <td>30908.0</td>\n",
       "      <td>2.60</td>\n",
       "      <td>MD</td>\n",
       "      <td>Hispanic or Latino</td>\n",
       "      <td>25924.0</td>\n",
       "    </tr>\n",
       "    <tr>\n",
       "      <th>1</th>\n",
       "      <td>Quincy</td>\n",
       "      <td>Massachusetts</td>\n",
       "      <td>41.0</td>\n",
       "      <td>44129.0</td>\n",
       "      <td>49500.0</td>\n",
       "      <td>93629.0</td>\n",
       "      <td>4147.0</td>\n",
       "      <td>32935.0</td>\n",
       "      <td>2.39</td>\n",
       "      <td>MA</td>\n",
       "      <td>White</td>\n",
       "      <td>58723.0</td>\n",
       "    </tr>\n",
       "    <tr>\n",
       "      <th>2</th>\n",
       "      <td>Hoover</td>\n",
       "      <td>Alabama</td>\n",
       "      <td>38.5</td>\n",
       "      <td>38040.0</td>\n",
       "      <td>46799.0</td>\n",
       "      <td>84839.0</td>\n",
       "      <td>4819.0</td>\n",
       "      <td>8229.0</td>\n",
       "      <td>2.58</td>\n",
       "      <td>AL</td>\n",
       "      <td>Asian</td>\n",
       "      <td>4759.0</td>\n",
       "    </tr>\n",
       "    <tr>\n",
       "      <th>3</th>\n",
       "      <td>Rancho Cucamonga</td>\n",
       "      <td>California</td>\n",
       "      <td>34.5</td>\n",
       "      <td>88127.0</td>\n",
       "      <td>87105.0</td>\n",
       "      <td>175232.0</td>\n",
       "      <td>5821.0</td>\n",
       "      <td>33878.0</td>\n",
       "      <td>3.18</td>\n",
       "      <td>CA</td>\n",
       "      <td>Black or African-American</td>\n",
       "      <td>24437.0</td>\n",
       "    </tr>\n",
       "    <tr>\n",
       "      <th>4</th>\n",
       "      <td>Newark</td>\n",
       "      <td>New Jersey</td>\n",
       "      <td>34.6</td>\n",
       "      <td>138040.0</td>\n",
       "      <td>143873.0</td>\n",
       "      <td>281913.0</td>\n",
       "      <td>5829.0</td>\n",
       "      <td>86253.0</td>\n",
       "      <td>2.73</td>\n",
       "      <td>NJ</td>\n",
       "      <td>White</td>\n",
       "      <td>76402.0</td>\n",
       "    </tr>\n",
       "  </tbody>\n",
       "</table>\n",
       "</div>"
      ],
      "text/plain": [
       "               city          state median_age  male_population  \\\n",
       "0     Silver Spring       Maryland       33.8          40601.0   \n",
       "1            Quincy  Massachusetts       41.0          44129.0   \n",
       "2            Hoover        Alabama       38.5          38040.0   \n",
       "3  Rancho Cucamonga     California       34.5          88127.0   \n",
       "4            Newark     New Jersey       34.6         138040.0   \n",
       "\n",
       "   female_population  total_population  num_veterans  foreign_born  \\\n",
       "0            41862.0           82463.0        1562.0       30908.0   \n",
       "1            49500.0           93629.0        4147.0       32935.0   \n",
       "2            46799.0           84839.0        4819.0        8229.0   \n",
       "3            87105.0          175232.0        5821.0       33878.0   \n",
       "4           143873.0          281913.0        5829.0       86253.0   \n",
       "\n",
       "   average_hhs state_code                       race    count  \n",
       "0         2.60         MD         Hispanic or Latino  25924.0  \n",
       "1         2.39         MA                      White  58723.0  \n",
       "2         2.58         AL                      Asian   4759.0  \n",
       "3         3.18         CA  Black or African-American  24437.0  \n",
       "4         2.73         NJ                      White  76402.0  "
      ]
     },
     "execution_count": 161,
     "metadata": {},
     "output_type": "execute_result"
    }
   ],
   "source": [
    "# With this function \"round_two_decimal\" is rounded the columns \"median_age\"\n",
    "demo_df = demo_df.withColumn(\"median_age\", round_two_decimal(demo_df.median_age))\n",
    "demo_df.limit(5).toPandas()"
   ]
  },
  {
   "cell_type": "code",
   "execution_count": 162,
   "metadata": {
    "editable": true
   },
   "outputs": [
    {
     "name": "stdout",
     "output_type": "stream",
     "text": [
      "root\n",
      " |-- city: string (nullable = true)\n",
      " |-- state: string (nullable = true)\n",
      " |-- median_age: string (nullable = true)\n",
      " |-- male_population: float (nullable = true)\n",
      " |-- female_population: float (nullable = true)\n",
      " |-- total_population: float (nullable = true)\n",
      " |-- num_veterans: float (nullable = true)\n",
      " |-- foreign_born: float (nullable = true)\n",
      " |-- average_hhs: float (nullable = true)\n",
      " |-- state_code: string (nullable = true)\n",
      " |-- race: string (nullable = true)\n",
      " |-- count: float (nullable = true)\n",
      "\n"
     ]
    }
   ],
   "source": [
    "demo_df.printSchema()"
   ]
  },
  {
   "cell_type": "code",
   "execution_count": 163,
   "metadata": {
    "editable": true
   },
   "outputs": [
    {
     "data": {
      "text/html": [
       "<div>\n",
       "<style scoped>\n",
       "    .dataframe tbody tr th:only-of-type {\n",
       "        vertical-align: middle;\n",
       "    }\n",
       "\n",
       "    .dataframe tbody tr th {\n",
       "        vertical-align: top;\n",
       "    }\n",
       "\n",
       "    .dataframe thead th {\n",
       "        text-align: right;\n",
       "    }\n",
       "</style>\n",
       "<table border=\"1\" class=\"dataframe\">\n",
       "  <thead>\n",
       "    <tr style=\"text-align: right;\">\n",
       "      <th></th>\n",
       "      <th>race</th>\n",
       "    </tr>\n",
       "  </thead>\n",
       "  <tbody>\n",
       "    <tr>\n",
       "      <th>0</th>\n",
       "      <td>Black or African-American</td>\n",
       "    </tr>\n",
       "    <tr>\n",
       "      <th>1</th>\n",
       "      <td>Hispanic or Latino</td>\n",
       "    </tr>\n",
       "    <tr>\n",
       "      <th>2</th>\n",
       "      <td>White</td>\n",
       "    </tr>\n",
       "    <tr>\n",
       "      <th>3</th>\n",
       "      <td>Asian</td>\n",
       "    </tr>\n",
       "    <tr>\n",
       "      <th>4</th>\n",
       "      <td>American Indian and Alaska Native</td>\n",
       "    </tr>\n",
       "  </tbody>\n",
       "</table>\n",
       "</div>"
      ],
      "text/plain": [
       "                                race\n",
       "0          Black or African-American\n",
       "1                 Hispanic or Latino\n",
       "2                              White\n",
       "3                              Asian\n",
       "4  American Indian and Alaska Native"
      ]
     },
     "execution_count": 163,
     "metadata": {},
     "output_type": "execute_result"
    }
   ],
   "source": [
    "# We want to know how many kinds of races there are in this table and we have got 5 outcomes \n",
    "demo_df[['race']].dropDuplicates().limit(6).toPandas()"
   ]
  },
  {
   "cell_type": "code",
   "execution_count": 164,
   "metadata": {
    "editable": true
   },
   "outputs": [
    {
     "name": "stdout",
     "output_type": "stream",
     "text": [
      "[584, 596, 589, 583, 539]\n"
     ]
    }
   ],
   "source": [
    "data_race = [(demo_df[demo_df['race']==\"Black or African-American\"]).count(), \n",
    "             (demo_df[demo_df['race']==\"Hispanic or Latino\"]).count(),\n",
    "             (demo_df[demo_df['race']==\"White\"]).count(),\n",
    "             (demo_df[demo_df['race']==\"Asian\"]).count(),\n",
    "             (demo_df[demo_df['race']==\"American Indian and Alaska Native\"]).count()]\n",
    "print(data_race)\n",
    "\n",
    "name = [\"Black or African-American\", \"Hispanic or Latino\", \"White\", \"Asian\", \"American Indian and Alaska Native\"]\n",
    "explode = [0.05, 0.05, 0.05, 0.05, 0.05]"
   ]
  },
  {
   "cell_type": "code",
   "execution_count": 165,
   "metadata": {
    "editable": true
   },
   "outputs": [
    {
     "data": {
      "image/png": "[encoded data removed]",
      "text/plain": [
       "<matplotlib.figure.Figure at 0x7f39f1bea390>"
      ]
     },
     "metadata": {},
     "output_type": "display_data"
    }
   ],
   "source": [
    "# We use graphing functions to show what percentage of each breed there is in the United States\n",
    "plt.pie(data_race, labels=name, explode=explode,\n",
    "        autopct='%1.1f%%', shadow=True, startangle=90)\n",
    "plt.title('Immigration divided by race')\n",
    "plt.show()"
   ]
  },
  {
   "cell_type": "code",
   "execution_count": 166,
   "metadata": {
    "editable": true
   },
   "outputs": [
    {
     "name": "stdout",
     "output_type": "stream",
     "text": [
      "[34, 343, 1287, 925, 262, 37, 0, 0, 0, 3, 0]\n"
     ]
    }
   ],
   "source": [
    "age = [(demo_df[(demo_df['median_age']>20) & (demo_df['median_age']<=25)]).count(),\n",
    "       (demo_df[(demo_df['median_age']>25) & (demo_df['median_age']<=30)]).count(),\n",
    "       (demo_df[(demo_df['median_age']>30) & (demo_df['median_age']<=35)]).count(),\n",
    "       (demo_df[(demo_df['median_age']>35) & (demo_df['median_age']<=40)]).count(),\n",
    "       (demo_df[(demo_df['median_age']>40) & (demo_df['median_age']<=45)]).count(),\n",
    "       (demo_df[(demo_df['median_age']>45) & (demo_df['median_age']<=50)]).count(),\n",
    "       (demo_df[(demo_df['median_age']>50) & (demo_df['median_age']<=55)]).count(),\n",
    "       (demo_df[(demo_df['median_age']>55) & (demo_df['median_age']<=60)]).count(),\n",
    "       (demo_df[(demo_df['median_age']>60) & (demo_df['median_age']<=65)]).count(),\n",
    "       (demo_df[(demo_df['median_age']>65) & (demo_df['median_age']<=70)]).count(),\n",
    "       (demo_df[(demo_df['median_age']>70) & (demo_df['median_age']<=75)]).count()] \n",
    "print(age)"
   ]
  },
  {
   "cell_type": "code",
   "execution_count": 167,
   "metadata": {
    "editable": true
   },
   "outputs": [
    {
     "data": {
      "image/png": "[encoded data removed]",
      "text/plain": [
       "<matplotlib.figure.Figure at 0x7f39f1bc7898>"
      ]
     },
     "metadata": {},
     "output_type": "display_data"
    }
   ],
   "source": [
    "# We use the graphing functions to show what percentage of each age type divided between 20 and 75 years\n",
    "range_age = ['Age [20-25]','Age [25-30]','Age [30-35]', 'Age [35-40]', 'Age [40-45]', 'Age [45-50]',\n",
    "    'Age [50-55]', 'Age [55-60]', 'Age [60-65]', 'Age [65-70]', 'Age [70-75]']\n",
    "explode = [6, 0.5, 0.05, 0.05, 0.3, 0.05, 1.5, 3, 4.5, 6, 7.5]  # Destacar algunos\n",
    "plt.pie(age, labels=range_age, explode=explode,\n",
    "        autopct='%1.1f%%', shadow=True, startangle=0)\n",
    "plt.title('Immigration divided by age')\n",
    "plt.show()"
   ]
  },
  {
   "cell_type": "markdown",
   "metadata": {
    "editable": true
   },
   "source": [
    "Finally, the demographic table, \"demo_df\" have the next column which will be explained below:\n",
    "\n",
    " - city (string): city name\n",
    " \n",
    " - state (string): state name\n",
    " \n",
    " - median_age (float): average age\n",
    " \n",
    " - male_population (float): number of males\n",
    " \n",
    " - female_population (float): number of women\n",
    " \n",
    " - total_population (float): total population\n",
    " \n",
    " - num_veterans (float): number of veterans\n",
    " \n",
    " - Foreign_born (float): number of foreigners\n",
    " \n",
    " - average_hhs (float): average number of people living in a house\n",
    " \n",
    " - state_code (string): state code\n",
    " \n",
    " - race (string): race\n",
    " \n",
    " - count (float): count of immigrant entries to the US."
   ]
  },
  {
   "cell_type": "markdown",
   "metadata": {
    "editable": true
   },
   "source": [
    "### Step 4: Run Pipelines to Model the Data \n",
    "#### 4.1 Create the data model\n",
    "Build the data pipelines to create the data model."
   ]
  },
  {
   "cell_type": "markdown",
   "metadata": {
    "editable": true
   },
   "source": [
    "#### 4.3 Data dictionary \n",
    "Create a data dictionary for your data model. For each field, provide a brief description of what the data is and where it came from. You can include the data dictionary in the notebook or in a separate file."
   ]
  },
  {
   "cell_type": "markdown",
   "metadata": {
    "editable": true
   },
   "source": [
    "The dimension tables that will be immigrant_dimension, demographic_dimension, temperature_dimension and immigration_fact are listed below.\n",
    "\n",
    "The columns will be the following:\n",
    "## immigration_fact\n",
    " - id_immigration\n",
    " - type\n",
    " - visatype\n",
    " - port_city\n",
    "## immigrant_dimension\n",
    "- id_immigration\n",
    "- origin\n",
    "- destination\n",
    "- code_city_destination\n",
    "- arrival_date\n",
    "- travel\n",
    "- addr\n",
    "- depdate\n",
    "- birth\n",
    "- biryear\n",
    "- gender\n",
    "- airline\n",
    "- admission_number\n",
    "## demographic_dimension\n",
    "- city \n",
    "- state\n",
    "- median_age\n",
    "- male_population\n",
    "- female_population\n",
    "- total_population\n",
    "- num_veterans\n",
    "- foreign_born\n",
    "- average_hhs\n",
    "- state_code\n",
    "- race\n",
    "- count\n",
    "## temperature_dimension\n",
    "- date\n",
    "- average_temperature\n",
    "- average_temperature_uncertainty\n",
    "- city\n",
    "- country\n",
    "- latitude\n",
    "- longitude"
   ]
  },
  {
   "cell_type": "code",
   "execution_count": 168,
   "metadata": {
    "editable": true
   },
   "outputs": [],
   "source": [
    "#Create dimension table for immigrant\n",
    "immigrant_dimension = i94_df.select(\"id_immigration\", \"origin\", \"destination\", \"code_city_destination\", \"arrival_date\", \\\n",
    "                                      \"travel\", \"addr\", \"depdate\", \"birth\", \"biryear\", \"gender\", \"airline\", \"admission_number\")"
   ]
  },
  {
   "cell_type": "code",
   "execution_count": 169,
   "metadata": {
    "editable": true
   },
   "outputs": [
    {
     "data": {
      "text/plain": [
       "2709889"
      ]
     },
     "execution_count": 169,
     "metadata": {},
     "output_type": "execute_result"
    }
   ],
   "source": [
    "immigrant_dimension.count()"
   ]
  },
  {
   "cell_type": "code",
   "execution_count": 170,
   "metadata": {
    "editable": true
   },
   "outputs": [
    {
     "data": {
      "text/html": [
       "<div>\n",
       "<style scoped>\n",
       "    .dataframe tbody tr th:only-of-type {\n",
       "        vertical-align: middle;\n",
       "    }\n",
       "\n",
       "    .dataframe tbody tr th {\n",
       "        vertical-align: top;\n",
       "    }\n",
       "\n",
       "    .dataframe thead th {\n",
       "        text-align: right;\n",
       "    }\n",
       "</style>\n",
       "<table border=\"1\" class=\"dataframe\">\n",
       "  <thead>\n",
       "    <tr style=\"text-align: right;\">\n",
       "      <th></th>\n",
       "      <th>id_immigration</th>\n",
       "      <th>origin</th>\n",
       "      <th>destination</th>\n",
       "      <th>code_city_destination</th>\n",
       "      <th>arrival_date</th>\n",
       "      <th>travel</th>\n",
       "      <th>addr</th>\n",
       "      <th>depdate</th>\n",
       "      <th>birth</th>\n",
       "      <th>biryear</th>\n",
       "      <th>gender</th>\n",
       "      <th>airline</th>\n",
       "      <th>admission_number</th>\n",
       "    </tr>\n",
       "  </thead>\n",
       "  <tbody>\n",
       "    <tr>\n",
       "      <th>0</th>\n",
       "      <td>5908962.0</td>\n",
       "      <td>INVALID: UNKNOWN</td>\n",
       "      <td>POLAND</td>\n",
       "      <td>SDP</td>\n",
       "      <td>2016-04-11</td>\n",
       "      <td>Rot reported</td>\n",
       "      <td>None</td>\n",
       "      <td>None</td>\n",
       "      <td>53</td>\n",
       "      <td>1963.0</td>\n",
       "      <td>M</td>\n",
       "      <td>None</td>\n",
       "      <td>4.355831e+10</td>\n",
       "    </tr>\n",
       "    <tr>\n",
       "      <th>1</th>\n",
       "      <td>5419796.0</td>\n",
       "      <td>BULGARIA</td>\n",
       "      <td>BULGARIA</td>\n",
       "      <td>WPB</td>\n",
       "      <td>2016-04-18</td>\n",
       "      <td>Rot reported</td>\n",
       "      <td>FL</td>\n",
       "      <td>None</td>\n",
       "      <td>42</td>\n",
       "      <td>1974.0</td>\n",
       "      <td>M</td>\n",
       "      <td>None</td>\n",
       "      <td>1.356816e+10</td>\n",
       "    </tr>\n",
       "    <tr>\n",
       "      <th>2</th>\n",
       "      <td>5934196.0</td>\n",
       "      <td>ITALY</td>\n",
       "      <td>ITALY</td>\n",
       "      <td>CHM</td>\n",
       "      <td>2016-04-16</td>\n",
       "      <td>Rot reported</td>\n",
       "      <td>NY</td>\n",
       "      <td>None</td>\n",
       "      <td>45</td>\n",
       "      <td>1971.0</td>\n",
       "      <td>M</td>\n",
       "      <td>None</td>\n",
       "      <td>5.782834e+10</td>\n",
       "    </tr>\n",
       "    <tr>\n",
       "      <th>3</th>\n",
       "      <td>6051481.0</td>\n",
       "      <td>ITALY</td>\n",
       "      <td>ITALY</td>\n",
       "      <td>CHM</td>\n",
       "      <td>2016-04-04</td>\n",
       "      <td>Rot reported</td>\n",
       "      <td>NY</td>\n",
       "      <td>None</td>\n",
       "      <td>39</td>\n",
       "      <td>1977.0</td>\n",
       "      <td>M</td>\n",
       "      <td>None</td>\n",
       "      <td>5.782834e+10</td>\n",
       "    </tr>\n",
       "    <tr>\n",
       "      <th>4</th>\n",
       "      <td>5936943.0</td>\n",
       "      <td>ITALY</td>\n",
       "      <td>ITALY</td>\n",
       "      <td>LNB</td>\n",
       "      <td>2016-04-22</td>\n",
       "      <td>Rot reported</td>\n",
       "      <td>None</td>\n",
       "      <td>None</td>\n",
       "      <td>45</td>\n",
       "      <td>1971.0</td>\n",
       "      <td>M</td>\n",
       "      <td>None</td>\n",
       "      <td>9.274616e+10</td>\n",
       "    </tr>\n",
       "  </tbody>\n",
       "</table>\n",
       "</div>"
      ],
      "text/plain": [
       "   id_immigration            origin destination code_city_destination  \\\n",
       "0       5908962.0  INVALID: UNKNOWN      POLAND                   SDP   \n",
       "1       5419796.0          BULGARIA    BULGARIA                   WPB   \n",
       "2       5934196.0             ITALY       ITALY                   CHM   \n",
       "3       6051481.0             ITALY       ITALY                   CHM   \n",
       "4       5936943.0             ITALY       ITALY                   LNB   \n",
       "\n",
       "  arrival_date        travel  addr depdate  birth  biryear gender airline  \\\n",
       "0   2016-04-11  Rot reported  None    None     53   1963.0      M    None   \n",
       "1   2016-04-18  Rot reported    FL    None     42   1974.0      M    None   \n",
       "2   2016-04-16  Rot reported    NY    None     45   1971.0      M    None   \n",
       "3   2016-04-04  Rot reported    NY    None     39   1977.0      M    None   \n",
       "4   2016-04-22  Rot reported  None    None     45   1971.0      M    None   \n",
       "\n",
       "   admission_number  \n",
       "0      4.355831e+10  \n",
       "1      1.356816e+10  \n",
       "2      5.782834e+10  \n",
       "3      5.782834e+10  \n",
       "4      9.274616e+10  "
      ]
     },
     "execution_count": 170,
     "metadata": {},
     "output_type": "execute_result"
    }
   ],
   "source": [
    "immigrant_dimension.limit(5).toPandas()"
   ]
  },
  {
   "cell_type": "code",
   "execution_count": 171,
   "metadata": {
    "editable": true
   },
   "outputs": [],
   "source": [
    "#Create dimension table for demographics\n",
    "demographic_dimension = demo_df"
   ]
  },
  {
   "cell_type": "code",
   "execution_count": 172,
   "metadata": {
    "editable": true
   },
   "outputs": [
    {
     "data": {
      "text/html": [
       "<div>\n",
       "<style scoped>\n",
       "    .dataframe tbody tr th:only-of-type {\n",
       "        vertical-align: middle;\n",
       "    }\n",
       "\n",
       "    .dataframe tbody tr th {\n",
       "        vertical-align: top;\n",
       "    }\n",
       "\n",
       "    .dataframe thead th {\n",
       "        text-align: right;\n",
       "    }\n",
       "</style>\n",
       "<table border=\"1\" class=\"dataframe\">\n",
       "  <thead>\n",
       "    <tr style=\"text-align: right;\">\n",
       "      <th></th>\n",
       "      <th>city</th>\n",
       "      <th>state</th>\n",
       "      <th>median_age</th>\n",
       "      <th>male_population</th>\n",
       "      <th>female_population</th>\n",
       "      <th>total_population</th>\n",
       "      <th>num_veterans</th>\n",
       "      <th>foreign_born</th>\n",
       "      <th>average_hhs</th>\n",
       "      <th>state_code</th>\n",
       "      <th>race</th>\n",
       "      <th>count</th>\n",
       "    </tr>\n",
       "  </thead>\n",
       "  <tbody>\n",
       "    <tr>\n",
       "      <th>0</th>\n",
       "      <td>Silver Spring</td>\n",
       "      <td>Maryland</td>\n",
       "      <td>33.8</td>\n",
       "      <td>40601.0</td>\n",
       "      <td>41862.0</td>\n",
       "      <td>82463.0</td>\n",
       "      <td>1562.0</td>\n",
       "      <td>30908.0</td>\n",
       "      <td>2.60</td>\n",
       "      <td>MD</td>\n",
       "      <td>Hispanic or Latino</td>\n",
       "      <td>25924.0</td>\n",
       "    </tr>\n",
       "    <tr>\n",
       "      <th>1</th>\n",
       "      <td>Quincy</td>\n",
       "      <td>Massachusetts</td>\n",
       "      <td>41.0</td>\n",
       "      <td>44129.0</td>\n",
       "      <td>49500.0</td>\n",
       "      <td>93629.0</td>\n",
       "      <td>4147.0</td>\n",
       "      <td>32935.0</td>\n",
       "      <td>2.39</td>\n",
       "      <td>MA</td>\n",
       "      <td>White</td>\n",
       "      <td>58723.0</td>\n",
       "    </tr>\n",
       "    <tr>\n",
       "      <th>2</th>\n",
       "      <td>Hoover</td>\n",
       "      <td>Alabama</td>\n",
       "      <td>38.5</td>\n",
       "      <td>38040.0</td>\n",
       "      <td>46799.0</td>\n",
       "      <td>84839.0</td>\n",
       "      <td>4819.0</td>\n",
       "      <td>8229.0</td>\n",
       "      <td>2.58</td>\n",
       "      <td>AL</td>\n",
       "      <td>Asian</td>\n",
       "      <td>4759.0</td>\n",
       "    </tr>\n",
       "    <tr>\n",
       "      <th>3</th>\n",
       "      <td>Rancho Cucamonga</td>\n",
       "      <td>California</td>\n",
       "      <td>34.5</td>\n",
       "      <td>88127.0</td>\n",
       "      <td>87105.0</td>\n",
       "      <td>175232.0</td>\n",
       "      <td>5821.0</td>\n",
       "      <td>33878.0</td>\n",
       "      <td>3.18</td>\n",
       "      <td>CA</td>\n",
       "      <td>Black or African-American</td>\n",
       "      <td>24437.0</td>\n",
       "    </tr>\n",
       "    <tr>\n",
       "      <th>4</th>\n",
       "      <td>Newark</td>\n",
       "      <td>New Jersey</td>\n",
       "      <td>34.6</td>\n",
       "      <td>138040.0</td>\n",
       "      <td>143873.0</td>\n",
       "      <td>281913.0</td>\n",
       "      <td>5829.0</td>\n",
       "      <td>86253.0</td>\n",
       "      <td>2.73</td>\n",
       "      <td>NJ</td>\n",
       "      <td>White</td>\n",
       "      <td>76402.0</td>\n",
       "    </tr>\n",
       "  </tbody>\n",
       "</table>\n",
       "</div>"
      ],
      "text/plain": [
       "               city          state median_age  male_population  \\\n",
       "0     Silver Spring       Maryland       33.8          40601.0   \n",
       "1            Quincy  Massachusetts       41.0          44129.0   \n",
       "2            Hoover        Alabama       38.5          38040.0   \n",
       "3  Rancho Cucamonga     California       34.5          88127.0   \n",
       "4            Newark     New Jersey       34.6         138040.0   \n",
       "\n",
       "   female_population  total_population  num_veterans  foreign_born  \\\n",
       "0            41862.0           82463.0        1562.0       30908.0   \n",
       "1            49500.0           93629.0        4147.0       32935.0   \n",
       "2            46799.0           84839.0        4819.0        8229.0   \n",
       "3            87105.0          175232.0        5821.0       33878.0   \n",
       "4           143873.0          281913.0        5829.0       86253.0   \n",
       "\n",
       "   average_hhs state_code                       race    count  \n",
       "0         2.60         MD         Hispanic or Latino  25924.0  \n",
       "1         2.39         MA                      White  58723.0  \n",
       "2         2.58         AL                      Asian   4759.0  \n",
       "3         3.18         CA  Black or African-American  24437.0  \n",
       "4         2.73         NJ                      White  76402.0  "
      ]
     },
     "execution_count": 172,
     "metadata": {},
     "output_type": "execute_result"
    }
   ],
   "source": [
    "demographic_dimension.limit(5).toPandas()"
   ]
  },
  {
   "cell_type": "code",
   "execution_count": 173,
   "metadata": {
    "editable": true
   },
   "outputs": [],
   "source": [
    "#Create dimension table for temperature\n",
    "temperature_dimension = temperature_df"
   ]
  },
  {
   "cell_type": "code",
   "execution_count": 174,
   "metadata": {
    "editable": true
   },
   "outputs": [
    {
     "data": {
      "text/html": [
       "<div>\n",
       "<style scoped>\n",
       "    .dataframe tbody tr th:only-of-type {\n",
       "        vertical-align: middle;\n",
       "    }\n",
       "\n",
       "    .dataframe tbody tr th {\n",
       "        vertical-align: top;\n",
       "    }\n",
       "\n",
       "    .dataframe thead th {\n",
       "        text-align: right;\n",
       "    }\n",
       "</style>\n",
       "<table border=\"1\" class=\"dataframe\">\n",
       "  <thead>\n",
       "    <tr style=\"text-align: right;\">\n",
       "      <th></th>\n",
       "      <th>date</th>\n",
       "      <th>average_temperature</th>\n",
       "      <th>average_temperature_uncertainty</th>\n",
       "      <th>city</th>\n",
       "      <th>country</th>\n",
       "      <th>latitude</th>\n",
       "      <th>longitude</th>\n",
       "    </tr>\n",
       "  </thead>\n",
       "  <tbody>\n",
       "    <tr>\n",
       "      <th>0</th>\n",
       "      <td>1932-01-01</td>\n",
       "      <td>5.79</td>\n",
       "      <td>0.51</td>\n",
       "      <td>Abilene</td>\n",
       "      <td>United States</td>\n",
       "      <td>32.95N</td>\n",
       "      <td>100.53W</td>\n",
       "    </tr>\n",
       "    <tr>\n",
       "      <th>1</th>\n",
       "      <td>1942-07-01</td>\n",
       "      <td>27.31</td>\n",
       "      <td>0.26</td>\n",
       "      <td>Abilene</td>\n",
       "      <td>United States</td>\n",
       "      <td>32.95N</td>\n",
       "      <td>100.53W</td>\n",
       "    </tr>\n",
       "    <tr>\n",
       "      <th>2</th>\n",
       "      <td>1967-01-01</td>\n",
       "      <td>7.05</td>\n",
       "      <td>0.28</td>\n",
       "      <td>Abilene</td>\n",
       "      <td>United States</td>\n",
       "      <td>32.95N</td>\n",
       "      <td>100.53W</td>\n",
       "    </tr>\n",
       "    <tr>\n",
       "      <th>3</th>\n",
       "      <td>1987-09-01</td>\n",
       "      <td>22.76</td>\n",
       "      <td>0.34</td>\n",
       "      <td>Abilene</td>\n",
       "      <td>United States</td>\n",
       "      <td>32.95N</td>\n",
       "      <td>100.53W</td>\n",
       "    </tr>\n",
       "    <tr>\n",
       "      <th>4</th>\n",
       "      <td>1990-03-01</td>\n",
       "      <td>12.22</td>\n",
       "      <td>0.1</td>\n",
       "      <td>Abilene</td>\n",
       "      <td>United States</td>\n",
       "      <td>32.95N</td>\n",
       "      <td>100.53W</td>\n",
       "    </tr>\n",
       "  </tbody>\n",
       "</table>\n",
       "</div>"
      ],
      "text/plain": [
       "        date average_temperature average_temperature_uncertainty     city  \\\n",
       "0 1932-01-01                5.79                            0.51  Abilene   \n",
       "1 1942-07-01               27.31                            0.26  Abilene   \n",
       "2 1967-01-01                7.05                            0.28  Abilene   \n",
       "3 1987-09-01               22.76                            0.34  Abilene   \n",
       "4 1990-03-01               12.22                             0.1  Abilene   \n",
       "\n",
       "         country latitude longitude  \n",
       "0  United States   32.95N   100.53W  \n",
       "1  United States   32.95N   100.53W  \n",
       "2  United States   32.95N   100.53W  \n",
       "3  United States   32.95N   100.53W  \n",
       "4  United States   32.95N   100.53W  "
      ]
     },
     "execution_count": 174,
     "metadata": {},
     "output_type": "execute_result"
    }
   ],
   "source": [
    "temperature_dimension.limit(5).toPandas()"
   ]
  },
  {
   "cell_type": "code",
   "execution_count": 175,
   "metadata": {
    "editable": true
   },
   "outputs": [],
   "source": [
    "# Create fact table for immigration\n",
    "immigration_fact = i94_df.select(\"id_immigration\", \"type\", \"visatype\", \"port_city\").drop_duplicates()"
   ]
  },
  {
   "cell_type": "code",
   "execution_count": 176,
   "metadata": {
    "editable": true
   },
   "outputs": [
    {
     "data": {
      "text/html": [
       "<div>\n",
       "<style scoped>\n",
       "    .dataframe tbody tr th:only-of-type {\n",
       "        vertical-align: middle;\n",
       "    }\n",
       "\n",
       "    .dataframe tbody tr th {\n",
       "        vertical-align: top;\n",
       "    }\n",
       "\n",
       "    .dataframe thead th {\n",
       "        text-align: right;\n",
       "    }\n",
       "</style>\n",
       "<table border=\"1\" class=\"dataframe\">\n",
       "  <thead>\n",
       "    <tr style=\"text-align: right;\">\n",
       "      <th></th>\n",
       "      <th>id_immigration</th>\n",
       "      <th>type</th>\n",
       "      <th>visatype</th>\n",
       "      <th>port_city</th>\n",
       "    </tr>\n",
       "  </thead>\n",
       "  <tbody>\n",
       "    <tr>\n",
       "      <th>0</th>\n",
       "      <td>6050399.0</td>\n",
       "      <td>Business</td>\n",
       "      <td>B1</td>\n",
       "      <td>DALLAS</td>\n",
       "    </tr>\n",
       "    <tr>\n",
       "      <th>1</th>\n",
       "      <td>5513810.0</td>\n",
       "      <td>Business</td>\n",
       "      <td>B1</td>\n",
       "      <td>CHICAGO</td>\n",
       "    </tr>\n",
       "    <tr>\n",
       "      <th>2</th>\n",
       "      <td>1975186.0</td>\n",
       "      <td>Business</td>\n",
       "      <td>B1</td>\n",
       "      <td>ST PAUL</td>\n",
       "    </tr>\n",
       "    <tr>\n",
       "      <th>3</th>\n",
       "      <td>1777631.0</td>\n",
       "      <td>Business</td>\n",
       "      <td>B1</td>\n",
       "      <td>ST PAUL</td>\n",
       "    </tr>\n",
       "    <tr>\n",
       "      <th>4</th>\n",
       "      <td>5014193.0</td>\n",
       "      <td>Business</td>\n",
       "      <td>B1</td>\n",
       "      <td>DETROIT</td>\n",
       "    </tr>\n",
       "  </tbody>\n",
       "</table>\n",
       "</div>"
      ],
      "text/plain": [
       "   id_immigration      type visatype port_city\n",
       "0       6050399.0  Business       B1    DALLAS\n",
       "1       5513810.0  Business       B1   CHICAGO\n",
       "2       1975186.0  Business       B1   ST PAUL\n",
       "3       1777631.0  Business       B1   ST PAUL\n",
       "4       5014193.0  Business       B1   DETROIT"
      ]
     },
     "execution_count": 176,
     "metadata": {},
     "output_type": "execute_result"
    }
   ],
   "source": [
    "immigration_fact.limit(5).toPandas()"
   ]
  },
  {
   "cell_type": "code",
   "execution_count": 177,
   "metadata": {
    "editable": true
   },
   "outputs": [],
   "source": [
    "# Write dimension tables to parquet\n",
    "immigrant_dimension.write.mode(\"overwrite\").partitionBy(\"gender\", \"addr\").parquet(\"immigrants\")\n",
    "demographic_dimension.write.mode(\"overwrite\").partitionBy(\"state\").parquet(\"demographic\")\n",
    "temperature_dimension.write.mode(\"overwrite\").parquet(\"temperature\")\n",
    "\n",
    "# Write fact table to parquet\n",
    "immigration_fact.write.mode(\"overwrite\").partitionBy(\"port_city\").parquet(\"immigration\")"
   ]
  },
  {
   "cell_type": "code",
   "execution_count": 178,
   "metadata": {
    "editable": true
   },
   "outputs": [],
   "source": [
    "def table_exists(df):\n",
    "    if df is not None:\n",
    "        return True\n",
    "    else:\n",
    "        return False\n",
    "\n",
    "def table_not_empty(df):\n",
    "    return df.count() != 0 "
   ]
  },
  {
   "cell_type": "code",
   "execution_count": 179,
   "metadata": {
    "editable": true
   },
   "outputs": [
    {
     "name": "stdout",
     "output_type": "stream",
     "text": [
      "data quality check passed\n",
      "dimension tables and fact table exist\n",
      "\n"
     ]
    }
   ],
   "source": [
    "if table_exists(immigrant_dimension) & table_exists(demographic_dimension) & table_exists(temperature_dimension) & table_exists(immigration_fact):\n",
    "    print(\"data quality check passed\")\n",
    "    print(\"dimension tables and fact table exist\")\n",
    "    print()\n",
    "else:\n",
    "    print(\"data quality check failed\")\n",
    "    print(\"table missing...\")"
   ]
  },
  {
   "cell_type": "code",
   "execution_count": 180,
   "metadata": {
    "editable": true
   },
   "outputs": [
    {
     "name": "stdout",
     "output_type": "stream",
     "text": [
      "data quality check passed!\n",
      "dimension tables and fact table contain records\n",
      "\n"
     ]
    }
   ],
   "source": [
    "if table_exists(immigrant_dimension) & table_exists(demographic_dimension) & table_exists(temperature_dimension) & table_exists(immigration_fact):\n",
    "    print(\"data quality check passed!\")\n",
    "    print(\"dimension tables and fact table contain records\")\n",
    "    print()\n",
    "else:\n",
    "    print(\"data quality check failed!\")\n",
    "    print(\"null records...\")"
   ]
  },
  {
   "cell_type": "markdown",
   "metadata": {
    "editable": true
   },
   "source": [
    "#### Step 5: Complete Project Write Up\n",
    "* Clearly state the rationale for the choice of tools and technologies for the project.\n",
    "\n",
    "    This project was made with Spark because it is able to process a large amount of data and it can do so fast and so easy. Spark can also work with different kinds of formats and it was something necessary in this project due here it was used format as SAS, CSV, Parquet and theses kind of format can integrate very well with S3 and Redshift.\n",
    "\n",
    "* Propose how often the data should be updated and why.\n",
    "\n",
    "    The update of data will be each month because it is the reason more logical whether it is attended to the necessity of the table and, such the temperature data as immigration data and demographic data can be updated each month with new temperatures and new immigrants.\n",
    "\n",
    "* Write a description of how you would approach the problem differently under the following scenarios:\n",
    " * The data was increased by 100x.\n",
    " \n",
    "     It can migrate to Elastic Map Reduce instance on Amazon Web Side and allow it to scale as needed. \n",
    "     \n",
    " * The data populates a dashboard that must be updated on a daily basis by 7am every day.\n",
    " \n",
    "     If this situation comes, it can use Airflow where will be programed and automatized the data pipeline jobs, and also it must have a retry mechanic in case something fails, the system can repeat the process.\n",
    "     \n",
    " * The database needed to be accessed by 100+ people.\n",
    " \n",
    "     In this case, it can use Redshift to have the data stored and so many people can access the information easily.\n",
    "     "
   ]
  },
  {
   "cell_type": "code",
   "execution_count": null,
   "metadata": {
    "editable": true
   },
   "outputs": [],
   "source": []
  },
  {
   "cell_type": "code",
   "execution_count": null,
   "metadata": {
    "editable": true
   },
   "outputs": [],
   "source": []
  },
  {
   "cell_type": "code",
   "execution_count": null,
   "metadata": {
    "editable": true
   },
   "outputs": [],
   "source": []
  },
  {
   "cell_type": "code",
   "execution_count": null,
   "metadata": {
    "editable": true
   },
   "outputs": [],
   "source": []
  },
  {
   "cell_type": "code",
   "execution_count": null,
   "metadata": {
    "editable": true
   },
   "outputs": [],
   "source": []
  },
  {
   "cell_type": "code",
   "execution_count": null,
   "metadata": {
    "editable": true
   },
   "outputs": [],
   "source": []
  }
 ],
 "metadata": {
  "kernelspec": {
   "display_name": "Python 3",
   "language": "python",
   "name": "python3"
  },
  "language_info": {
   "codemirror_mode": {
    "name": "ipython",
    "version": 3
   },
   "file_extension": ".py",
   "mimetype": "text/x-python",
   "name": "python",
   "nbconvert_exporter": "python",
   "pygments_lexer": "ipython3",
   "version": "3.6.3"
  }
 },
 "nbformat": 4,
 "nbformat_minor": 4
}
